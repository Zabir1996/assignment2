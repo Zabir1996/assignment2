{
  "cells": [
    {
      "cell_type": "markdown",
      "metadata": {
        "id": "uQ6wc2HE0pke"
      },
      "source": [
        "# **Experiment Notebook**\n",
        "\n"
      ]
    },
    {
      "cell_type": "code",
      "source": [
        "# Do not modify this code\n",
        "!pip install -q utstd\n",
        "\n",
        "from utstd.ipyrenders import *"
      ],
      "metadata": {
        "id": "qNOA146K2c6f",
        "colab": {
          "base_uri": "https://localhost:8080/"
        },
        "outputId": "b93cec7f-b672-4f59-adb7-54ec9c43d658"
      },
      "execution_count": 1,
      "outputs": [
        {
          "output_type": "stream",
          "name": "stdout",
          "text": [
            "\u001b[2K   \u001b[90m━━━━━━━━━━━━━━━━━━━━━━━━━━━━━━━━━━━━━━━━\u001b[0m \u001b[32m12.9/12.9 MB\u001b[0m \u001b[31m33.3 MB/s\u001b[0m eta \u001b[36m0:00:00\u001b[0m\n",
            "\u001b[2K   \u001b[90m━━━━━━━━━━━━━━━━━━━━━━━━━━━━━━━━━━━━━━━━\u001b[0m \u001b[32m1.6/1.6 MB\u001b[0m \u001b[31m19.4 MB/s\u001b[0m eta \u001b[36m0:00:00\u001b[0m\n",
            "\u001b[?25h\u001b[31mERROR: pip's dependency resolver does not currently take into account all the packages that are installed. This behaviour is the source of the following dependency conflicts.\n",
            "umap-learn 0.5.9.post2 requires scikit-learn>=1.6, but you have scikit-learn 1.5.2 which is incompatible.\u001b[0m\u001b[31m\n",
            "\u001b[0m"
          ]
        }
      ]
    },
    {
      "cell_type": "code",
      "source": [
        "# Do not modify this code\n",
        "import warnings\n",
        "warnings.simplefilter(action='ignore')"
      ],
      "metadata": {
        "id": "6FneOmBfka9G"
      },
      "execution_count": 2,
      "outputs": []
    },
    {
      "cell_type": "markdown",
      "source": [
        "## 0. Import Packages"
      ],
      "metadata": {
        "id": "mXFKfa2tp1ch"
      }
    },
    {
      "cell_type": "code",
      "source": [
        "\n",
        "import os\n",
        "from pathlib import Path\n",
        "from datetime import datetime, timedelta, date\n",
        "import json\n",
        "import math\n",
        "import logging\n",
        "\n",
        "import seaborn as sns\n",
        "import matplotlib.pyplot as plt\n",
        "\n",
        "import requests\n",
        "import numpy as np\n",
        "import pandas as pd\n",
        "\n",
        "from tqdm.auto import tqdm\n",
        "\n",
        "# sklearn / modeling / preprocessing\n",
        "from sklearn.model_selection import train_test_split, TimeSeriesSplit\n",
        "from sklearn.pipeline import Pipeline\n",
        "from sklearn.compose import ColumnTransformer\n",
        "from sklearn.impute import SimpleImputer\n",
        "from sklearn.preprocessing import StandardScaler, OneHotEncoder, FunctionTransformer\n",
        "from sklearn.linear_model import LogisticRegression, LinearRegression\n",
        "from sklearn.metrics import (\n",
        "    roc_auc_score, precision_recall_fscore_support, brier_score_loss,\n",
        "    mean_absolute_error, mean_squared_error, r2_score\n",
        ")\n",
        "\n",
        "import lightgbm as lgb\n",
        "import joblib\n",
        "\n",
        "# plotting (matplotlib only; keep styles default unless you request otherwise)\n",
        "import matplotlib.pyplot as plt"
      ],
      "metadata": {
        "id": "GBEAwdncnlAx"
      },
      "execution_count": 3,
      "outputs": []
    },
    {
      "cell_type": "markdown",
      "metadata": {
        "id": "tQgxLRrvjiJb"
      },
      "source": [
        "---\n",
        "## A. Project Description\n"
      ]
    },
    {
      "cell_type": "code",
      "source": [
        "# <Student to fill this section>\n",
        "student_name = \"Mihiran Uddin Zabir\"\n",
        "student_id = \"25157912\""
      ],
      "metadata": {
        "id": "Je1EzzfFD5hj"
      },
      "execution_count": 4,
      "outputs": []
    },
    {
      "cell_type": "code",
      "source": [
        "# Do not modify this code\n",
        "print_tile(size=\"h1\", key='student_name', value=student_name)"
      ],
      "metadata": {
        "id": "pdKiYvFWD5my",
        "colab": {
          "base_uri": "https://localhost:8080/",
          "height": 98
        },
        "outputId": "a968924b-cffa-4e79-f347-a9231263cec0"
      },
      "execution_count": 5,
      "outputs": [
        {
          "output_type": "display_data",
          "data": {
            "text/plain": [
              "<IPython.core.display.HTML object>"
            ],
            "text/html": [
              "<p style=\"color:grey\">student_name</p><h1 font-size: 3em>Mihiran Uddin Zabir</h1>"
            ]
          },
          "metadata": {}
        }
      ]
    },
    {
      "cell_type": "code",
      "source": [
        "# Do not modify this code\n",
        "print_tile(size=\"h1\", key='student_id', value=student_id)"
      ],
      "metadata": {
        "id": "9KTEbRjqD5o_",
        "colab": {
          "base_uri": "https://localhost:8080/",
          "height": 98
        },
        "outputId": "ad5a9f2d-4e0a-4d70-ac7e-1bdcc6f4f4f4"
      },
      "execution_count": 6,
      "outputs": [
        {
          "output_type": "display_data",
          "data": {
            "text/plain": [
              "<IPython.core.display.HTML object>"
            ],
            "text/html": [
              "<p style=\"color:grey\">student_id</p><h1 font-size: 3em>25157912</h1>"
            ]
          },
          "metadata": {}
        }
      ]
    },
    {
      "cell_type": "markdown",
      "source": [
        "---\n",
        "## B. Business Understanding"
      ],
      "metadata": {
        "id": "4q1Bzcejvfpm"
      }
    },
    {
      "cell_type": "code",
      "source": [
        "# <Student to fill this section>\n",
        "business_use_case_description = \"\"\"\n",
        "Open Meteo provides weather forecasting as a service through APIs. The aim of this project is to enhance\n",
        "their service by incorporating AI models capable of making short and medium-term predictions of\n",
        "rainfall in Sydney. Two models in particular will be designed:\n",
        "1. A classifying model to forecast that it will rain on an exact date seven days from then.\n",
        "2. A regression model forecasting the overall amount of precipitation (in mm) over the following three days.\n",
        "\n",
        "Both these models will be provided as APIs so that customers of Open Meteo are able to directly incorporate them within\n",
        "their systems or applications for operational planning and decision-making.\n",
        "\"\"\""
      ],
      "metadata": {
        "id": "Mmo6apC9EEv8"
      },
      "execution_count": 7,
      "outputs": []
    },
    {
      "cell_type": "code",
      "source": [
        "# Do not modify this code\n",
        "print_tile(size=\"h3\", key='business_use_case_description', value=business_use_case_description)"
      ],
      "metadata": {
        "id": "bgb0DkG2EE2e",
        "colab": {
          "base_uri": "https://localhost:8080/",
          "height": 142
        },
        "outputId": "d4f5ad39-0777-4dd7-a507-b2693faed0a5"
      },
      "execution_count": 8,
      "outputs": [
        {
          "output_type": "display_data",
          "data": {
            "text/plain": [
              "<IPython.core.display.HTML object>"
            ],
            "text/html": [
              "<p style=\"color:grey\">business_use_case_description</p><h3 font-size: 3em>\n",
              "Open Meteo provides weather forecasting as a service through APIs. The aim of this project is to enhance\n",
              "their service by incorporating AI models capable of making short and medium-term predictions of\n",
              "rainfall in Sydney. Two models in particular will be designed:\n",
              "1. A classifying model to forecast that it will rain on an exact date seven days from then.\n",
              "2. A regression model forecasting the overall amount of precipitation (in mm) over the following three days.\n",
              "\n",
              "Both these models will be provided as APIs so that customers of Open Meteo are able to directly incorporate them within\n",
              "their systems or applications for operational planning and decision-making.\n",
              "</h3>"
            ]
          },
          "metadata": {}
        }
      ]
    },
    {
      "cell_type": "code",
      "source": [
        "# <Student to fill this section>\n",
        "business_objectives = \"\"\"\n",
        "The business objective is to increase the accuracy and reliability of weather-related forecasts for Sydney.\n",
        "Accurate predictions will help users (e.g., logistics companies, event organisers, farmers, construction\n",
        "firms, and city planners) make better decisions, reduce risks, and optimise resources.\n",
        "\n",
        "If the models are accurate:\n",
        "- Clients can plan outdoor activities or operations with confidence.\n",
        "- Businesses can minimise weather-related losses (e.g., project delays, inventory damage).\n",
        "- Open Meteo strengthens its brand reputation and customer trust.\n",
        "\n",
        "If the models are inaccurate:\n",
        "- Users may experience operational disruptions or financial loss due to incorrect forecasts.\n",
        "- Open Meteo may lose credibility, leading to client dissatisfaction and reduced adoption of its services.\n",
        "\"\"\""
      ],
      "metadata": {
        "id": "29Yqk3d2EE8q"
      },
      "execution_count": 9,
      "outputs": []
    },
    {
      "cell_type": "code",
      "source": [
        "# Do not modify this code\n",
        "print_tile(size=\"h3\", key='business_objectives', value=business_objectives)"
      ],
      "metadata": {
        "id": "sSu_8J96EFDs",
        "colab": {
          "base_uri": "https://localhost:8080/",
          "height": 142
        },
        "outputId": "75aecd10-f815-4702-c5c4-c639482fa326"
      },
      "execution_count": 10,
      "outputs": [
        {
          "output_type": "display_data",
          "data": {
            "text/plain": [
              "<IPython.core.display.HTML object>"
            ],
            "text/html": [
              "<p style=\"color:grey\">business_objectives</p><h3 font-size: 3em>\n",
              "The business objective is to increase the accuracy and reliability of weather-related forecasts for Sydney.\n",
              "Accurate predictions will help users (e.g., logistics companies, event organisers, farmers, construction\n",
              "firms, and city planners) make better decisions, reduce risks, and optimise resources.\n",
              "\n",
              "If the models are accurate:\n",
              "- Clients can plan outdoor activities or operations with confidence.\n",
              "- Businesses can minimise weather-related losses (e.g., project delays, inventory damage).\n",
              "- Open Meteo strengthens its brand reputation and customer trust.\n",
              "\n",
              "If the models are inaccurate:\n",
              "- Users may experience operational disruptions or financial loss due to incorrect forecasts.\n",
              "- Open Meteo may lose credibility, leading to client dissatisfaction and reduced adoption of its services.\n",
              "</h3>"
            ]
          },
          "metadata": {}
        }
      ]
    },
    {
      "cell_type": "code",
      "source": [
        "# <Student to fill this section>\n",
        "stakeholders_expectations_explanations = \"\"\"\n",
        "The results will be integrated into Open Meteo’s API platform and used by external clients\n",
        "via programmatic access. Primary users include:\n",
        "- Data and engineering teams from client companies integrating weather intelligence into their\n",
        "  operations and analytics dashboards.\n",
        "- Business decision-makers relying on weather predictions for planning logistics, events,\n",
        "  agriculture, and construction projects.\n",
        "\n",
        "Indirectly, end users (the clients’ customers) will also be impacted by these predictions\n",
        "through improved planning, fewer disruptions, and better service delivery.\n",
        "\n",
        "Stakeholders expect:\n",
        "- Reliable, interpretable predictions.\n",
        "- Transparent performance metrics (accuracy, precision, RMSE, etc.).\n",
        "- Continuous improvement and retraining as new data becomes available.\n",
        "\"\"\""
      ],
      "metadata": {
        "id": "Hf4ThY5cEF5W"
      },
      "execution_count": 11,
      "outputs": []
    },
    {
      "cell_type": "code",
      "source": [
        "# Do not modify this code\n",
        "print_tile(size=\"h3\", key='stakeholders_expectations_explanations', value=stakeholders_expectations_explanations)"
      ],
      "metadata": {
        "id": "jH9a2X70EF8M",
        "colab": {
          "base_uri": "https://localhost:8080/",
          "height": 183
        },
        "outputId": "06be9d57-edac-4bd5-ac38-da10b390db15"
      },
      "execution_count": null,
      "outputs": [
        {
          "output_type": "display_data",
          "data": {
            "text/plain": [
              "<IPython.core.display.HTML object>"
            ],
            "text/html": [
              "<p style=\"color:grey\">stakeholders_expectations_explanations</p><h3 font-size: 3em>\n",
              "The results will be integrated into Open Meteo’s API platform and used by external clients \n",
              "via programmatic access. Primary users include:\n",
              "- Data and engineering teams from client companies integrating weather intelligence into their \n",
              "  operations and analytics dashboards.\n",
              "- Business decision-makers relying on weather predictions for planning logistics, events, \n",
              "  agriculture, and construction projects.\n",
              "\n",
              "Indirectly, end users (the clients’ customers) will also be impacted by these predictions \n",
              "through improved planning, fewer disruptions, and better service delivery.\n",
              "\n",
              "Stakeholders expect:\n",
              "- Reliable, interpretable predictions.\n",
              "- Transparent performance metrics (accuracy, precision, RMSE, etc.).\n",
              "- Continuous improvement and retraining as new data becomes available.\n",
              "</h3>"
            ]
          },
          "metadata": {}
        }
      ]
    },
    {
      "cell_type": "markdown",
      "source": [
        "---\n",
        "## C. Data Understanding"
      ],
      "metadata": {
        "id": "P0zsEPshwy1K"
      }
    },
    {
      "cell_type": "markdown",
      "source": [
        "### C.1   Load Datasets\n"
      ],
      "metadata": {
        "id": "sGMWhKSbUl63"
      }
    },
    {
      "cell_type": "code",
      "source": [
        "\n",
        "# Define parameters\n",
        "latitude = -33.8678\n",
        "longitude = 151.2073\n",
        "start_date = \"2023-01-01\"\n",
        "end_date = \"2023-12-31\"\n",
        "daily_params = \"temperature_2m_max,temperature_2m_min,precipitation_sum,windspeed_10m_max\"\n",
        "\n",
        "# Construct the API URL\n",
        "url = (\n",
        "    f\"https://archive-api.open-meteo.com/v1/archive?\"\n",
        "    f\"latitude={latitude}&longitude={longitude}\"\n",
        "    f\"&start_date={start_date}&end_date={end_date}\"\n",
        "    f\"&daily={daily_params}&timezone=Australia/Sydney\"\n",
        ")\n",
        "\n",
        "# Make the request\n",
        "response = requests.get(url)\n",
        "data = response.json()\n",
        "\n",
        "# Convert to DataFrame\n",
        "df = pd.DataFrame(data['daily'])\n",
        "print(df.head())\n"
      ],
      "metadata": {
        "id": "NKgOzSn-w0eq",
        "colab": {
          "base_uri": "https://localhost:8080/"
        },
        "outputId": "9dd96148-d8d2-4d52-8c93-c67eab8f692d"
      },
      "execution_count": null,
      "outputs": [
        {
          "output_type": "stream",
          "name": "stdout",
          "text": [
            "         time  temperature_2m_max  temperature_2m_min  precipitation_sum  \\\n",
            "0  2023-01-01                25.2                17.6                0.5   \n",
            "1  2023-01-02                25.9                18.1                0.0   \n",
            "2  2023-01-03                26.4                17.6                0.0   \n",
            "3  2023-01-04                24.6                18.6               10.6   \n",
            "4  2023-01-05                20.7                16.9               57.1   \n",
            "\n",
            "   windspeed_10m_max  \n",
            "0               20.1  \n",
            "1               24.0  \n",
            "2               19.7  \n",
            "3               27.4  \n",
            "4               35.1  \n"
          ]
        }
      ]
    },
    {
      "cell_type": "markdown",
      "source": [
        "### C.2 Define Target variable"
      ],
      "metadata": {
        "id": "tpG_mos_EXrY"
      }
    },
    {
      "cell_type": "code",
      "source": [
        "target_variable = \"temperature_2m_max\"\n"
      ],
      "metadata": {
        "id": "gsQkuxYLVHb1"
      },
      "execution_count": null,
      "outputs": []
    },
    {
      "cell_type": "code",
      "source": [],
      "metadata": {
        "id": "4Z0I4L_cVITG"
      },
      "execution_count": null,
      "outputs": []
    },
    {
      "cell_type": "code",
      "source": [
        "# <Student to fill this section>\n",
        "target_definition_explanations = \"\"\"\n",
        "The target variable chosen is 'temperature_2m_max', representing the daily maximum temperature.\n",
        "- This variable is a key indicator for weather-sensitive industries (energy, logistics, tourism, and retail).\n",
        "\"\"\""
      ],
      "metadata": {
        "id": "RiqBkEQ-EjIZ"
      },
      "execution_count": null,
      "outputs": []
    },
    {
      "cell_type": "code",
      "source": [
        "# Do not modify this code\n",
        "print_tile(size=\"h3\", key='target_definition_explanations', value=target_definition_explanations)"
      ],
      "metadata": {
        "id": "qdeiAKiIElvG",
        "colab": {
          "base_uri": "https://localhost:8080/",
          "height": 101
        },
        "outputId": "4a689590-1d8c-4f62-a79d-bb449f7817fd"
      },
      "execution_count": null,
      "outputs": [
        {
          "output_type": "display_data",
          "data": {
            "text/plain": [
              "<IPython.core.display.HTML object>"
            ],
            "text/html": [
              "<p style=\"color:grey\">target_definition_explanations</p><h3 font-size: 3em>\n",
              "The target variable chosen is 'temperature_2m_max', representing the daily maximum temperature.\n",
              "- This variable is a key indicator for weather-sensitive industries (energy, logistics, tourism, and retail).\n",
              "</h3>"
            ]
          },
          "metadata": {}
        }
      ]
    },
    {
      "cell_type": "markdown",
      "source": [
        "### C.3 Create Target variable"
      ],
      "metadata": {
        "id": "CtIfwnLmEn51"
      }
    },
    {
      "cell_type": "code",
      "source": [
        "# shift the target column one day ahead so the model learns to predict tomorrow’s max temperature based on today’s weather\n",
        "\n",
        "# Create target: next day's max temperature\n",
        "df['target_temperature_max_next_day'] = df['temperature_2m_max'].shift(-1)\n",
        "\n",
        "# Drop the last row since it has no \"next day\" target\n",
        "df = df.dropna(subset=['target_temperature_max_next_day']).reset_index(drop=True)\n",
        "\n",
        "# Define target name\n",
        "target_name = 'target_temperature_max_next_day'\n",
        "\n",
        "print(\"Target variable created successfully:\", target_name)\n",
        "df.head()"
      ],
      "metadata": {
        "id": "XV8dRa59EpLG",
        "colab": {
          "base_uri": "https://localhost:8080/",
          "height": 223
        },
        "outputId": "34613979-95a2-440e-a61e-6e09adb46a87"
      },
      "execution_count": null,
      "outputs": [
        {
          "output_type": "stream",
          "name": "stdout",
          "text": [
            "Target variable created successfully: target_temperature_max_next_day\n"
          ]
        },
        {
          "output_type": "execute_result",
          "data": {
            "text/plain": [
              "         time  temperature_2m_max  temperature_2m_min  precipitation_sum  \\\n",
              "0  2023-01-01                25.2                17.6                0.5   \n",
              "1  2023-01-02                25.9                18.1                0.0   \n",
              "2  2023-01-03                26.4                17.6                0.0   \n",
              "3  2023-01-04                24.6                18.6               10.6   \n",
              "4  2023-01-05                20.7                16.9               57.1   \n",
              "\n",
              "   windspeed_10m_max  target_temperature_max_next_day  \n",
              "0               20.1                             25.9  \n",
              "1               24.0                             26.4  \n",
              "2               19.7                             24.6  \n",
              "3               27.4                             20.7  \n",
              "4               35.1                             19.2  "
            ],
            "text/html": [
              "\n",
              "  <div id=\"df-36a653e3-4908-4083-b5fa-0847ee97aa0c\" class=\"colab-df-container\">\n",
              "    <div>\n",
              "<style scoped>\n",
              "    .dataframe tbody tr th:only-of-type {\n",
              "        vertical-align: middle;\n",
              "    }\n",
              "\n",
              "    .dataframe tbody tr th {\n",
              "        vertical-align: top;\n",
              "    }\n",
              "\n",
              "    .dataframe thead th {\n",
              "        text-align: right;\n",
              "    }\n",
              "</style>\n",
              "<table border=\"1\" class=\"dataframe\">\n",
              "  <thead>\n",
              "    <tr style=\"text-align: right;\">\n",
              "      <th></th>\n",
              "      <th>time</th>\n",
              "      <th>temperature_2m_max</th>\n",
              "      <th>temperature_2m_min</th>\n",
              "      <th>precipitation_sum</th>\n",
              "      <th>windspeed_10m_max</th>\n",
              "      <th>target_temperature_max_next_day</th>\n",
              "    </tr>\n",
              "  </thead>\n",
              "  <tbody>\n",
              "    <tr>\n",
              "      <th>0</th>\n",
              "      <td>2023-01-01</td>\n",
              "      <td>25.2</td>\n",
              "      <td>17.6</td>\n",
              "      <td>0.5</td>\n",
              "      <td>20.1</td>\n",
              "      <td>25.9</td>\n",
              "    </tr>\n",
              "    <tr>\n",
              "      <th>1</th>\n",
              "      <td>2023-01-02</td>\n",
              "      <td>25.9</td>\n",
              "      <td>18.1</td>\n",
              "      <td>0.0</td>\n",
              "      <td>24.0</td>\n",
              "      <td>26.4</td>\n",
              "    </tr>\n",
              "    <tr>\n",
              "      <th>2</th>\n",
              "      <td>2023-01-03</td>\n",
              "      <td>26.4</td>\n",
              "      <td>17.6</td>\n",
              "      <td>0.0</td>\n",
              "      <td>19.7</td>\n",
              "      <td>24.6</td>\n",
              "    </tr>\n",
              "    <tr>\n",
              "      <th>3</th>\n",
              "      <td>2023-01-04</td>\n",
              "      <td>24.6</td>\n",
              "      <td>18.6</td>\n",
              "      <td>10.6</td>\n",
              "      <td>27.4</td>\n",
              "      <td>20.7</td>\n",
              "    </tr>\n",
              "    <tr>\n",
              "      <th>4</th>\n",
              "      <td>2023-01-05</td>\n",
              "      <td>20.7</td>\n",
              "      <td>16.9</td>\n",
              "      <td>57.1</td>\n",
              "      <td>35.1</td>\n",
              "      <td>19.2</td>\n",
              "    </tr>\n",
              "  </tbody>\n",
              "</table>\n",
              "</div>\n",
              "    <div class=\"colab-df-buttons\">\n",
              "\n",
              "  <div class=\"colab-df-container\">\n",
              "    <button class=\"colab-df-convert\" onclick=\"convertToInteractive('df-36a653e3-4908-4083-b5fa-0847ee97aa0c')\"\n",
              "            title=\"Convert this dataframe to an interactive table.\"\n",
              "            style=\"display:none;\">\n",
              "\n",
              "  <svg xmlns=\"http://www.w3.org/2000/svg\" height=\"24px\" viewBox=\"0 -960 960 960\">\n",
              "    <path d=\"M120-120v-720h720v720H120Zm60-500h600v-160H180v160Zm220 220h160v-160H400v160Zm0 220h160v-160H400v160ZM180-400h160v-160H180v160Zm440 0h160v-160H620v160ZM180-180h160v-160H180v160Zm440 0h160v-160H620v160Z\"/>\n",
              "  </svg>\n",
              "    </button>\n",
              "\n",
              "  <style>\n",
              "    .colab-df-container {\n",
              "      display:flex;\n",
              "      gap: 12px;\n",
              "    }\n",
              "\n",
              "    .colab-df-convert {\n",
              "      background-color: #E8F0FE;\n",
              "      border: none;\n",
              "      border-radius: 50%;\n",
              "      cursor: pointer;\n",
              "      display: none;\n",
              "      fill: #1967D2;\n",
              "      height: 32px;\n",
              "      padding: 0 0 0 0;\n",
              "      width: 32px;\n",
              "    }\n",
              "\n",
              "    .colab-df-convert:hover {\n",
              "      background-color: #E2EBFA;\n",
              "      box-shadow: 0px 1px 2px rgba(60, 64, 67, 0.3), 0px 1px 3px 1px rgba(60, 64, 67, 0.15);\n",
              "      fill: #174EA6;\n",
              "    }\n",
              "\n",
              "    .colab-df-buttons div {\n",
              "      margin-bottom: 4px;\n",
              "    }\n",
              "\n",
              "    [theme=dark] .colab-df-convert {\n",
              "      background-color: #3B4455;\n",
              "      fill: #D2E3FC;\n",
              "    }\n",
              "\n",
              "    [theme=dark] .colab-df-convert:hover {\n",
              "      background-color: #434B5C;\n",
              "      box-shadow: 0px 1px 3px 1px rgba(0, 0, 0, 0.15);\n",
              "      filter: drop-shadow(0px 1px 2px rgba(0, 0, 0, 0.3));\n",
              "      fill: #FFFFFF;\n",
              "    }\n",
              "  </style>\n",
              "\n",
              "    <script>\n",
              "      const buttonEl =\n",
              "        document.querySelector('#df-36a653e3-4908-4083-b5fa-0847ee97aa0c button.colab-df-convert');\n",
              "      buttonEl.style.display =\n",
              "        google.colab.kernel.accessAllowed ? 'block' : 'none';\n",
              "\n",
              "      async function convertToInteractive(key) {\n",
              "        const element = document.querySelector('#df-36a653e3-4908-4083-b5fa-0847ee97aa0c');\n",
              "        const dataTable =\n",
              "          await google.colab.kernel.invokeFunction('convertToInteractive',\n",
              "                                                    [key], {});\n",
              "        if (!dataTable) return;\n",
              "\n",
              "        const docLinkHtml = 'Like what you see? Visit the ' +\n",
              "          '<a target=\"_blank\" href=https://colab.research.google.com/notebooks/data_table.ipynb>data table notebook</a>'\n",
              "          + ' to learn more about interactive tables.';\n",
              "        element.innerHTML = '';\n",
              "        dataTable['output_type'] = 'display_data';\n",
              "        await google.colab.output.renderOutput(dataTable, element);\n",
              "        const docLink = document.createElement('div');\n",
              "        docLink.innerHTML = docLinkHtml;\n",
              "        element.appendChild(docLink);\n",
              "      }\n",
              "    </script>\n",
              "  </div>\n",
              "\n",
              "\n",
              "    <div id=\"df-c60fb5d0-367f-4031-ac3b-01e610bfec18\">\n",
              "      <button class=\"colab-df-quickchart\" onclick=\"quickchart('df-c60fb5d0-367f-4031-ac3b-01e610bfec18')\"\n",
              "                title=\"Suggest charts\"\n",
              "                style=\"display:none;\">\n",
              "\n",
              "<svg xmlns=\"http://www.w3.org/2000/svg\" height=\"24px\"viewBox=\"0 0 24 24\"\n",
              "     width=\"24px\">\n",
              "    <g>\n",
              "        <path d=\"M19 3H5c-1.1 0-2 .9-2 2v14c0 1.1.9 2 2 2h14c1.1 0 2-.9 2-2V5c0-1.1-.9-2-2-2zM9 17H7v-7h2v7zm4 0h-2V7h2v10zm4 0h-2v-4h2v4z\"/>\n",
              "    </g>\n",
              "</svg>\n",
              "      </button>\n",
              "\n",
              "<style>\n",
              "  .colab-df-quickchart {\n",
              "      --bg-color: #E8F0FE;\n",
              "      --fill-color: #1967D2;\n",
              "      --hover-bg-color: #E2EBFA;\n",
              "      --hover-fill-color: #174EA6;\n",
              "      --disabled-fill-color: #AAA;\n",
              "      --disabled-bg-color: #DDD;\n",
              "  }\n",
              "\n",
              "  [theme=dark] .colab-df-quickchart {\n",
              "      --bg-color: #3B4455;\n",
              "      --fill-color: #D2E3FC;\n",
              "      --hover-bg-color: #434B5C;\n",
              "      --hover-fill-color: #FFFFFF;\n",
              "      --disabled-bg-color: #3B4455;\n",
              "      --disabled-fill-color: #666;\n",
              "  }\n",
              "\n",
              "  .colab-df-quickchart {\n",
              "    background-color: var(--bg-color);\n",
              "    border: none;\n",
              "    border-radius: 50%;\n",
              "    cursor: pointer;\n",
              "    display: none;\n",
              "    fill: var(--fill-color);\n",
              "    height: 32px;\n",
              "    padding: 0;\n",
              "    width: 32px;\n",
              "  }\n",
              "\n",
              "  .colab-df-quickchart:hover {\n",
              "    background-color: var(--hover-bg-color);\n",
              "    box-shadow: 0 1px 2px rgba(60, 64, 67, 0.3), 0 1px 3px 1px rgba(60, 64, 67, 0.15);\n",
              "    fill: var(--button-hover-fill-color);\n",
              "  }\n",
              "\n",
              "  .colab-df-quickchart-complete:disabled,\n",
              "  .colab-df-quickchart-complete:disabled:hover {\n",
              "    background-color: var(--disabled-bg-color);\n",
              "    fill: var(--disabled-fill-color);\n",
              "    box-shadow: none;\n",
              "  }\n",
              "\n",
              "  .colab-df-spinner {\n",
              "    border: 2px solid var(--fill-color);\n",
              "    border-color: transparent;\n",
              "    border-bottom-color: var(--fill-color);\n",
              "    animation:\n",
              "      spin 1s steps(1) infinite;\n",
              "  }\n",
              "\n",
              "  @keyframes spin {\n",
              "    0% {\n",
              "      border-color: transparent;\n",
              "      border-bottom-color: var(--fill-color);\n",
              "      border-left-color: var(--fill-color);\n",
              "    }\n",
              "    20% {\n",
              "      border-color: transparent;\n",
              "      border-left-color: var(--fill-color);\n",
              "      border-top-color: var(--fill-color);\n",
              "    }\n",
              "    30% {\n",
              "      border-color: transparent;\n",
              "      border-left-color: var(--fill-color);\n",
              "      border-top-color: var(--fill-color);\n",
              "      border-right-color: var(--fill-color);\n",
              "    }\n",
              "    40% {\n",
              "      border-color: transparent;\n",
              "      border-right-color: var(--fill-color);\n",
              "      border-top-color: var(--fill-color);\n",
              "    }\n",
              "    60% {\n",
              "      border-color: transparent;\n",
              "      border-right-color: var(--fill-color);\n",
              "    }\n",
              "    80% {\n",
              "      border-color: transparent;\n",
              "      border-right-color: var(--fill-color);\n",
              "      border-bottom-color: var(--fill-color);\n",
              "    }\n",
              "    90% {\n",
              "      border-color: transparent;\n",
              "      border-bottom-color: var(--fill-color);\n",
              "    }\n",
              "  }\n",
              "</style>\n",
              "\n",
              "      <script>\n",
              "        async function quickchart(key) {\n",
              "          const quickchartButtonEl =\n",
              "            document.querySelector('#' + key + ' button');\n",
              "          quickchartButtonEl.disabled = true;  // To prevent multiple clicks.\n",
              "          quickchartButtonEl.classList.add('colab-df-spinner');\n",
              "          try {\n",
              "            const charts = await google.colab.kernel.invokeFunction(\n",
              "                'suggestCharts', [key], {});\n",
              "          } catch (error) {\n",
              "            console.error('Error during call to suggestCharts:', error);\n",
              "          }\n",
              "          quickchartButtonEl.classList.remove('colab-df-spinner');\n",
              "          quickchartButtonEl.classList.add('colab-df-quickchart-complete');\n",
              "        }\n",
              "        (() => {\n",
              "          let quickchartButtonEl =\n",
              "            document.querySelector('#df-c60fb5d0-367f-4031-ac3b-01e610bfec18 button');\n",
              "          quickchartButtonEl.style.display =\n",
              "            google.colab.kernel.accessAllowed ? 'block' : 'none';\n",
              "        })();\n",
              "      </script>\n",
              "    </div>\n",
              "\n",
              "    </div>\n",
              "  </div>\n"
            ],
            "application/vnd.google.colaboratory.intrinsic+json": {
              "type": "dataframe",
              "variable_name": "df",
              "summary": "{\n  \"name\": \"df\",\n  \"rows\": 364,\n  \"fields\": [\n    {\n      \"column\": \"time\",\n      \"properties\": {\n        \"dtype\": \"object\",\n        \"num_unique_values\": 364,\n        \"samples\": [\n          \"2023-07-13\",\n          \"2023-02-03\",\n          \"2023-01-16\"\n        ],\n        \"semantic_type\": \"\",\n        \"description\": \"\"\n      }\n    },\n    {\n      \"column\": \"temperature_2m_max\",\n      \"properties\": {\n        \"dtype\": \"number\",\n        \"std\": 4.4364474571463814,\n        \"min\": 11.2,\n        \"max\": 39.1,\n        \"num_unique_values\": 150,\n        \"samples\": [\n          18.6,\n          23.7,\n          15.2\n        ],\n        \"semantic_type\": \"\",\n        \"description\": \"\"\n      }\n    },\n    {\n      \"column\": \"temperature_2m_min\",\n      \"properties\": {\n        \"dtype\": \"number\",\n        \"std\": 4.672376928990287,\n        \"min\": 2.7,\n        \"max\": 22.2,\n        \"num_unique_values\": 149,\n        \"samples\": [\n          9.1,\n          21.3,\n          6.4\n        ],\n        \"semantic_type\": \"\",\n        \"description\": \"\"\n      }\n    },\n    {\n      \"column\": \"precipitation_sum\",\n      \"properties\": {\n        \"dtype\": \"number\",\n        \"std\": 5.939154312362485,\n        \"min\": 0.0,\n        \"max\": 57.1,\n        \"num_unique_values\": 89,\n        \"samples\": [\n          5.5,\n          2.9,\n          21.7\n        ],\n        \"semantic_type\": \"\",\n        \"description\": \"\"\n      }\n    },\n    {\n      \"column\": \"windspeed_10m_max\",\n      \"properties\": {\n        \"dtype\": \"number\",\n        \"std\": 5.953495006393155,\n        \"min\": 8.8,\n        \"max\": 39.3,\n        \"num_unique_values\": 177,\n        \"samples\": [\n          19.8,\n          15.6,\n          17.8\n        ],\n        \"semantic_type\": \"\",\n        \"description\": \"\"\n      }\n    },\n    {\n      \"column\": \"target_temperature_max_next_day\",\n      \"properties\": {\n        \"dtype\": \"number\",\n        \"std\": 4.4343284812252515,\n        \"min\": 11.2,\n        \"max\": 39.1,\n        \"num_unique_values\": 151,\n        \"samples\": [\n          19.6,\n          23.4,\n          21.0\n        ],\n        \"semantic_type\": \"\",\n        \"description\": \"\"\n      }\n    }\n  ]\n}"
            }
          },
          "metadata": {},
          "execution_count": 15
        }
      ]
    },
    {
      "cell_type": "markdown",
      "source": [
        "### C.4 Explore Target variable"
      ],
      "metadata": {
        "id": "dmSKLrSBFAN5"
      }
    },
    {
      "cell_type": "code",
      "source": [
        "# Basic statistics\n",
        "print(df[target_name].describe())\n"
      ],
      "metadata": {
        "id": "zeldOL0KFC4E",
        "colab": {
          "base_uri": "https://localhost:8080/"
        },
        "outputId": "910ca3c6-c19f-4501-fcbe-556535029601"
      },
      "execution_count": null,
      "outputs": [
        {
          "output_type": "stream",
          "name": "stdout",
          "text": [
            "count    364.000000\n",
            "mean      22.396978\n",
            "std        4.434328\n",
            "min       11.200000\n",
            "25%       18.900000\n",
            "50%       22.100000\n",
            "75%       25.000000\n",
            "max       39.100000\n",
            "Name: target_temperature_max_next_day, dtype: float64\n"
          ]
        }
      ]
    },
    {
      "cell_type": "code",
      "source": [
        "\n",
        "# Plot target variable\n",
        "plt.figure(figsize=(10, 5))\n",
        "plt.plot(df['time'], df[target_name], color='tab:blue')\n",
        "plt.title('Next Day Maximum Temperature Over Time')\n",
        "plt.xlabel('Date')\n",
        "plt.ylabel('Temperature (°C)')\n",
        "plt.grid(True)\n",
        "plt.show()"
      ],
      "metadata": {
        "id": "DBocSNWvVFCU",
        "colab": {
          "base_uri": "https://localhost:8080/",
          "height": 487
        },
        "outputId": "0e07a826-ca58-400f-dcdd-8522f2479a09"
      },
      "execution_count": null,
      "outputs": [
        {
          "output_type": "display_data",
          "data": {
            "text/plain": [
              "<Figure size 1000x500 with 1 Axes>"
            ],
            "image/png": "[encoded data removed]"
          },
          "metadata": {}
        }
      ]
    },
    {
      "cell_type": "code",
      "source": [
        "# <Student to fill this section>\n",
        "target_distribution_explanations = \"\"\"\n",
        "The target variable 'target_temperature_max_next_day' represents the next day's maximum temperature.\n",
        "This setup transforms our dataset into a supervised learning problem where each row corresponds\n",
        "to today's weather conditions, and the label (target) is the next day's temperature.\n",
        "\n",
        "This approach ensures:\n",
        "- Realistic forecasting: The model learns from historical data without accessing future information.\n",
        "- No data leakage: Only past and current data are used for prediction, not future values.\n",
        "\"\"\""
      ],
      "metadata": {
        "id": "5I9ccv-UEr5o"
      },
      "execution_count": null,
      "outputs": []
    },
    {
      "cell_type": "code",
      "source": [
        "# Do not modify this code\n",
        "print_tile(size=\"h3\", key='target_distribution_explanations', value=target_distribution_explanations)"
      ],
      "metadata": {
        "id": "i45S7xA9EtEV",
        "colab": {
          "base_uri": "https://localhost:8080/",
          "height": 142
        },
        "outputId": "e3e32657-6ddb-4f02-fbde-020d4f427e47"
      },
      "execution_count": null,
      "outputs": [
        {
          "output_type": "display_data",
          "data": {
            "text/plain": [
              "<IPython.core.display.HTML object>"
            ],
            "text/html": [
              "<p style=\"color:grey\">target_distribution_explanations</p><h3 font-size: 3em>\n",
              "The target variable 'target_temperature_max_next_day' represents the next day's maximum temperature.\n",
              "This setup transforms our dataset into a supervised learning problem where each row corresponds\n",
              "to today's weather conditions, and the label (target) is the next day's temperature.\n",
              "\n",
              "This approach ensures:\n",
              "- Realistic forecasting: The model learns from historical data without accessing future information.\n",
              "- No data leakage: Only past and current data are used for prediction, not future values.\n",
              "</h3>"
            ]
          },
          "metadata": {}
        }
      ]
    },
    {
      "cell_type": "markdown",
      "source": [
        "### C.5 Explore Feature of Interest `\\<temperature_2m_max\\>`"
      ],
      "metadata": {
        "id": "37ubEa7SFWXo"
      }
    },
    {
      "cell_type": "code",
      "source": [
        "feature = 'temperature_2m_max'\n",
        "\n",
        "# Basic statistics\n",
        "print(df[feature].describe())\n",
        "\n"
      ],
      "metadata": {
        "id": "wV9Ldx0gFWks",
        "colab": {
          "base_uri": "https://localhost:8080/"
        },
        "outputId": "594e8034-3e47-405a-e314-459f29cadded"
      },
      "execution_count": null,
      "outputs": [
        {
          "output_type": "stream",
          "name": "stdout",
          "text": [
            "count    364.000000\n",
            "mean      22.407418\n",
            "std        4.436447\n",
            "min       11.200000\n",
            "25%       18.900000\n",
            "50%       22.200000\n",
            "75%       25.025000\n",
            "max       39.100000\n",
            "Name: temperature_2m_max, dtype: float64\n"
          ]
        }
      ]
    },
    {
      "cell_type": "code",
      "source": [
        "# Plot distribution\n",
        "plt.figure(figsize=(8,4))\n",
        "sns.histplot(df[feature], bins=30, kde=True, color='coral')\n",
        "plt.title('Distribution of Daily Maximum Temperature (°C)')\n",
        "plt.xlabel('Temperature (°C)')\n",
        "plt.ylabel('Frequency')\n",
        "plt.grid(True)\n",
        "plt.show()"
      ],
      "metadata": {
        "id": "JJxanj3EVERJ",
        "colab": {
          "base_uri": "https://localhost:8080/",
          "height": 410
        },
        "outputId": "a01c71b5-41a3-4310-8b98-651da56be2bf"
      },
      "execution_count": null,
      "outputs": [
        {
          "output_type": "display_data",
          "data": {
            "text/plain": [
              "<Figure size 800x400 with 1 Axes>"
            ],
            "image/png": "[encoded data removed]"
          },
          "metadata": {}
        }
      ]
    },
    {
      "cell_type": "code",
      "source": [
        "# Plot over time\n",
        "plt.figure(figsize=(10,5))\n",
        "plt.plot(df['time'], df[feature], color='darkorange')\n",
        "plt.title('Daily Maximum Temperature Over Time')\n",
        "plt.xlabel('Date')\n",
        "plt.ylabel('Temperature (°C)')\n",
        "plt.grid(True)\n",
        "plt.show()"
      ],
      "metadata": {
        "colab": {
          "base_uri": "https://localhost:8080/",
          "height": 487
        },
        "id": "17uMjkYsMxUG",
        "outputId": "d08141f0-99a5-40bd-e3a1-24c248663035"
      },
      "execution_count": null,
      "outputs": [
        {
          "output_type": "display_data",
          "data": {
            "text/plain": [
              "<Figure size 1000x500 with 1 Axes>"
            ],
            "image/png": "[encoded data removed]"
          },
          "metadata": {}
        }
      ]
    },
    {
      "cell_type": "code",
      "source": [
        "# <Student to fill this section>\n",
        "feature_1_insights = \"\"\"\n",
        "Feature: temperature_2m_max\n",
        "\n",
        "This feature represents the maximum temperature recorded each day in Sydney.\n",
        "It shows clear seasonality, with higher temperatures during the summer months and lower ones in winter.\n",
        "The distribution is roughly normal but slightly right-skewed, with occasional heatwave outliers.\n",
        "\n",
        "Potential issues:\n",
        "- Missing data during certain days (should be checked before modeling).\n",
        "- Sudden spikes could reflect sensor or reporting errors, but likely real weather extremes.\n",
        "\n",
        "This variable is a strong predictor for both rain likelihood and future temperature trends.\n",
        "\n",
        "\"\"\""
      ],
      "metadata": {
        "id": "y4YLcn_eEyAe"
      },
      "execution_count": null,
      "outputs": []
    },
    {
      "cell_type": "code",
      "source": [
        "# Do not modify this code\n",
        "print_tile(size=\"h3\", key='feature_1_insights', value=feature_1_insights)"
      ],
      "metadata": {
        "id": "2r1knRxDEyC0",
        "colab": {
          "base_uri": "https://localhost:8080/",
          "height": 162
        },
        "outputId": "c71d5462-c0d5-4bc7-cc00-10e7ac19476f"
      },
      "execution_count": null,
      "outputs": [
        {
          "output_type": "display_data",
          "data": {
            "text/plain": [
              "<IPython.core.display.HTML object>"
            ],
            "text/html": [
              "<p style=\"color:grey\">feature_1_insights</p><h3 font-size: 3em>\n",
              "Feature: temperature_2m_max\n",
              "\n",
              "This feature represents the maximum temperature recorded each day in Sydney.\n",
              "It shows clear seasonality, with higher temperatures during the summer months and lower ones in winter.\n",
              "The distribution is roughly normal but slightly right-skewed, with occasional heatwave outliers.\n",
              "\n",
              "Potential issues:\n",
              "- Missing data during certain days (should be checked before modeling).\n",
              "- Sudden spikes could reflect sensor or reporting errors, but likely real weather extremes.\n",
              "\n",
              "This variable is a strong predictor for both rain likelihood and future temperature trends.\n",
              "\n",
              "</h3>"
            ]
          },
          "metadata": {}
        }
      ]
    },
    {
      "cell_type": "markdown",
      "source": [
        "### C.6 Explore Feature of Interest `\\<put feature name here\\>`"
      ],
      "metadata": {
        "id": "WOqd56IjE0LB"
      }
    },
    {
      "cell_type": "code",
      "source": [
        "feature = 'precipitation_sum'\n",
        "\n",
        "print(df[feature].describe())\n"
      ],
      "metadata": {
        "id": "akQFJsI3E2eM",
        "colab": {
          "base_uri": "https://localhost:8080/"
        },
        "outputId": "ed3297fe-8a8b-45e4-8f6d-f5b51b213ddd"
      },
      "execution_count": null,
      "outputs": [
        {
          "output_type": "stream",
          "name": "stdout",
          "text": [
            "count    364.000000\n",
            "mean       2.390934\n",
            "std        5.939154\n",
            "min        0.000000\n",
            "25%        0.000000\n",
            "50%        0.100000\n",
            "75%        1.800000\n",
            "max       57.100000\n",
            "Name: precipitation_sum, dtype: float64\n"
          ]
        }
      ]
    },
    {
      "cell_type": "code",
      "source": [
        "\n",
        "plt.figure(figsize=(8,4))\n",
        "sns.histplot(df[feature], bins=30, kde=False, color='skyblue')\n",
        "plt.title('Distribution of Daily Precipitation (mm)')\n",
        "plt.xlabel('Precipitation (mm)')\n",
        "plt.ylabel('Frequency')\n",
        "plt.grid(True)\n",
        "plt.show()\n"
      ],
      "metadata": {
        "colab": {
          "base_uri": "https://localhost:8080/",
          "height": 410
        },
        "id": "Y9ilzxVANNPI",
        "outputId": "468a62ce-f6c3-4ed1-9f89-987b80874cc5"
      },
      "execution_count": null,
      "outputs": [
        {
          "output_type": "display_data",
          "data": {
            "text/plain": [
              "<Figure size 800x400 with 1 Axes>"
            ],
            "image/png": "[encoded data removed]"
          },
          "metadata": {}
        }
      ]
    },
    {
      "cell_type": "code",
      "source": [
        "\n",
        "plt.figure(figsize=(10,5))\n",
        "plt.plot(df['time'], df[feature], color='steelblue')\n",
        "plt.title('Daily Precipitation Over Time')\n",
        "plt.xlabel('Date')\n",
        "plt.ylabel('Precipitation (mm)')\n",
        "plt.grid(True)\n",
        "plt.show()"
      ],
      "metadata": {
        "colab": {
          "base_uri": "https://localhost:8080/",
          "height": 487
        },
        "id": "FsmHRLU_NPyv",
        "outputId": "1b86c6c4-7bf0-4416-db4a-a0d80730b94e"
      },
      "execution_count": null,
      "outputs": [
        {
          "output_type": "display_data",
          "data": {
            "text/plain": [
              "<Figure size 1000x500 with 1 Axes>"
            ],
            "image/png": "[encoded data removed]"
          },
          "metadata": {}
        }
      ]
    },
    {
      "cell_type": "code",
      "source": [
        "# <Student to fill this section>\n",
        "feature_2_insights = \"\"\"\n",
        "Feature: precipitation_sum\n",
        "\n",
        "This feature measures the total amount of precipitation (rain, drizzle, snow, etc.) in millimetres per day.\n",
        "The distribution is highly right-skewed — most days have zero or very low precipitation, while a few have heavy rainfall.\n",
        "This imbalance makes it a good candidate for transformation (e.g., log(x+1)) or binarisation (rain vs. no rain).\n",
        "\n",
        "Potential issues:\n",
        "- Heavy skew and high variance.\n",
        "- Days with 0 mm are dominant, which could bias models unless handled carefully.\n",
        "\n",
        "Nevertheless, this is the primary variable of interest for both rain classification and regression tasks.\n",
        "\"\"\""
      ],
      "metadata": {
        "id": "u-CfAsO1E2hB"
      },
      "execution_count": null,
      "outputs": []
    },
    {
      "cell_type": "code",
      "source": [
        "# Do not modify this code\n",
        "print_tile(size=\"h3\", key='feature_2_insights', value=feature_2_insights)"
      ],
      "metadata": {
        "id": "bB87lgCAE2jf",
        "colab": {
          "base_uri": "https://localhost:8080/",
          "height": 162
        },
        "outputId": "4f6cc280-9ad9-48a6-eeaa-1781932e15e2"
      },
      "execution_count": null,
      "outputs": [
        {
          "output_type": "display_data",
          "data": {
            "text/plain": [
              "<IPython.core.display.HTML object>"
            ],
            "text/html": [
              "<p style=\"color:grey\">feature_2_insights</p><h3 font-size: 3em>\n",
              "Feature: precipitation_sum\n",
              "\n",
              "This feature measures the total amount of precipitation (rain, drizzle, snow, etc.) in millimetres per day.\n",
              "The distribution is highly right-skewed — most days have zero or very low precipitation, while a few have heavy rainfall.\n",
              "This imbalance makes it a good candidate for transformation (e.g., log(x+1)) or binarisation (rain vs. no rain).\n",
              "\n",
              "Potential issues:\n",
              "- Heavy skew and high variance.\n",
              "- Days with 0 mm are dominant, which could bias models unless handled carefully.\n",
              "\n",
              "Nevertheless, this is the primary variable of interest for both rain classification and regression tasks.\n",
              "</h3>"
            ]
          },
          "metadata": {}
        }
      ]
    },
    {
      "cell_type": "markdown",
      "source": [
        "### C.6 Explore Feature of Interest `\\<put feature name here\\>`\n"
      ],
      "metadata": {
        "id": "-8J_tiLgE26i"
      }
    },
    {
      "cell_type": "code",
      "source": [
        "feature = 'windspeed_10m_max'\n",
        "\n",
        "print(df[feature].describe())"
      ],
      "metadata": {
        "id": "qeyyEgIrE6GB",
        "colab": {
          "base_uri": "https://localhost:8080/"
        },
        "outputId": "15b19192-513e-40ea-b03a-353eb338fec9"
      },
      "execution_count": null,
      "outputs": [
        {
          "output_type": "stream",
          "name": "stdout",
          "text": [
            "count    364.000000\n",
            "mean      20.748626\n",
            "std        5.953495\n",
            "min        8.800000\n",
            "25%       16.200000\n",
            "50%       19.700000\n",
            "75%       24.650000\n",
            "max       39.300000\n",
            "Name: windspeed_10m_max, dtype: float64\n"
          ]
        }
      ]
    },
    {
      "cell_type": "code",
      "source": [
        "plt.figure(figsize=(8,4))\n",
        "sns.histplot(df[feature], bins=30, kde=True, color='mediumseagreen')\n",
        "plt.title('Distribution of Maximum Daily Wind Speed (km/h)')\n",
        "plt.xlabel('Wind Speed (km/h)')\n",
        "plt.ylabel('Frequency')\n",
        "plt.grid(True)\n",
        "plt.show()\n"
      ],
      "metadata": {
        "id": "ie8xl4AfVPU7",
        "colab": {
          "base_uri": "https://localhost:8080/",
          "height": 410
        },
        "outputId": "9bf1d8c9-d1fd-45a7-b5c8-7ca43655849b"
      },
      "execution_count": null,
      "outputs": [
        {
          "output_type": "display_data",
          "data": {
            "text/plain": [
              "<Figure size 800x400 with 1 Axes>"
            ],
            "image/png": "[encoded data removed]"
          },
          "metadata": {}
        }
      ]
    },
    {
      "cell_type": "code",
      "source": [
        "\n",
        "plt.figure(figsize=(10,5))\n",
        "plt.plot(df['time'], df[feature], color='seagreen')\n",
        "plt.title('Daily Maximum Wind Speed Over Time')\n",
        "plt.xlabel('Date')\n",
        "plt.ylabel('Wind Speed (km/h)')\n",
        "plt.grid(True)\n",
        "plt.show()"
      ],
      "metadata": {
        "colab": {
          "base_uri": "https://localhost:8080/",
          "height": 487
        },
        "id": "BleegVxkNlWB",
        "outputId": "15328c4e-7c65-4a4a-c0b5-e0b609e37b84"
      },
      "execution_count": null,
      "outputs": [
        {
          "output_type": "display_data",
          "data": {
            "text/plain": [
              "<Figure size 1000x500 with 1 Axes>"
            ],
            "image/png": "[encoded data removed]"
          },
          "metadata": {}
        }
      ]
    },
    {
      "cell_type": "code",
      "source": [
        "# <Student to fill this section>\n",
        "feature_n_insights = \"\"\"\n",
        "Feature: windspeed_10m_max\n",
        "\n",
        "This feature represents the maximum wind speed recorded at 10 metres above ground level.\n",
        "It shows moderate variability with occasional spikes corresponding to storms or weather fronts.\n",
        "The distribution is nearly normal but with a slightly long tail toward higher speeds.\n",
        "\n",
        "Potential issues:\n",
        "- Outliers may correspond to extreme weather events, which can strongly influence model training.\n",
        "- Might need normalization or scaling since wind speed magnitudes differ from other features.\n",
        "\n",
        "Wind speed is a relevant feature since strong winds often accompany rain events or pressure system changes.\n",
        "\n",
        "\"\"\""
      ],
      "metadata": {
        "id": "_Vlh8usmE6In"
      },
      "execution_count": null,
      "outputs": []
    },
    {
      "cell_type": "code",
      "source": [
        "# Do not modify this code\n",
        "print_tile(size=\"h3\", key='feature_n_insights', value=feature_n_insights)"
      ],
      "metadata": {
        "id": "BNZGN3nrE6LJ",
        "colab": {
          "base_uri": "https://localhost:8080/",
          "height": 162
        },
        "outputId": "0b04db4c-5eb5-4be4-d871-cf31498a00a2"
      },
      "execution_count": null,
      "outputs": [
        {
          "output_type": "display_data",
          "data": {
            "text/plain": [
              "<IPython.core.display.HTML object>"
            ],
            "text/html": [
              "<p style=\"color:grey\">feature_n_insights</p><h3 font-size: 3em>\n",
              "Feature: windspeed_10m_max\n",
              "\n",
              "This feature represents the maximum wind speed recorded at 10 metres above ground level.\n",
              "It shows moderate variability with occasional spikes corresponding to storms or weather fronts.\n",
              "The distribution is nearly normal but with a slightly long tail toward higher speeds.\n",
              "\n",
              "Potential issues:\n",
              "- Outliers may correspond to extreme weather events, which can strongly influence model training.\n",
              "- Might need normalization or scaling since wind speed magnitudes differ from other features.\n",
              "\n",
              "Wind speed is a relevant feature since strong winds often accompany rain events or pressure system changes.\n",
              "\n",
              "</h3>"
            ]
          },
          "metadata": {}
        }
      ]
    },
    {
      "cell_type": "markdown",
      "source": [
        "### C.n Explore Feature of Interest `\\<temperature_2m_max\\>`\n",
        "\n",
        "> You can add more cells related to other feeatures in this section"
      ],
      "metadata": {
        "id": "ZcjaUGQ_VbVQ"
      }
    },
    {
      "cell_type": "code",
      "source": [],
      "metadata": {
        "id": "Z_DwQMvDVbfA"
      },
      "execution_count": null,
      "outputs": []
    },
    {
      "cell_type": "code",
      "source": [],
      "metadata": {
        "id": "4P8cUfkCVbic"
      },
      "execution_count": null,
      "outputs": []
    },
    {
      "cell_type": "markdown",
      "metadata": {
        "id": "_NCwQQFkU3v5"
      },
      "source": [
        "---\n",
        "## D. Feature Selection\n"
      ]
    },
    {
      "cell_type": "markdown",
      "source": [
        "### D.1 Approach \"\\<numeric_features\\>\"\n"
      ],
      "metadata": {
        "id": "0b8C9WON3Toe"
      }
    },
    {
      "cell_type": "code",
      "source": [
        "\n",
        "# Select numeric columns\n",
        "numeric_features = df.select_dtypes(include=['float64', 'int64']).columns\n",
        "\n",
        "# Compute correlation matrix\n",
        "corr = df[numeric_features].corr()\n",
        "\n",
        "plt.figure(figsize=(10,8))\n",
        "sns.heatmap(corr, annot=True, cmap='coolwarm', fmt=\".2f\")\n",
        "plt.title('Feature Correlation Heatmap')\n",
        "plt.show()\n",
        "\n",
        "# Display correlations with the target variable\n",
        "target_corr = corr[target_name].sort_values(ascending=False)\n",
        "print(\"Correlation of features with target variable:\\n\")\n",
        "print(target_corr)"
      ],
      "metadata": {
        "id": "zfC-DLKv4AuM",
        "colab": {
          "base_uri": "https://localhost:8080/",
          "height": 1000
        },
        "outputId": "7266badf-73c6-4c1f-e6eb-c8deebb40122"
      },
      "execution_count": null,
      "outputs": [
        {
          "output_type": "display_data",
          "data": {
            "text/plain": [
              "<Figure size 1000x800 with 2 Axes>"
            ],
            "image/png": "[encoded data removed]"
          },
          "metadata": {}
        },
        {
          "output_type": "stream",
          "name": "stdout",
          "text": [
            "Correlation of features with target variable:\n",
            "\n",
            "target_temperature_max_next_day    1.000000\n",
            "temperature_2m_max                 0.716910\n",
            "temperature_2m_min                 0.606102\n",
            "windspeed_10m_max                  0.072482\n",
            "precipitation_sum                 -0.015305\n",
            "Name: target_temperature_max_next_day, dtype: float64\n"
          ]
        }
      ]
    },
    {
      "cell_type": "code",
      "source": [],
      "metadata": {
        "id": "J2_6it8iViBX"
      },
      "execution_count": null,
      "outputs": []
    },
    {
      "cell_type": "code",
      "source": [
        "# <Student to fill this section>\n",
        "feature_selection_1_insights = \"\"\"\n",
        "start with a simple statistical method — Pearson correlation — to understand the linear relationship\n",
        "between each numerical feature and our target ('target_temperature_max_next_day').\n",
        "\n",
        "Findings:\n",
        "- 'temperature_2m_max' and 'temperature_2m_min' show a strong positive correlation with the target.\n",
        "- 'windspeed_10m_max' has a mild negative correlation.\n",
        "- 'precipitation_sum' shows weak correlation with temperature (which is expected).\n",
        "\n",
        "Limitations:\n",
        "Correlation captures only linear relationships and ignores feature interactions or non-linear effects.\n",
        "Despite that, it’s a good first filter to remove clearly irrelevant or redundant variables.\n",
        "\"\"\""
      ],
      "metadata": {
        "id": "Z9myLlFZFQXj"
      },
      "execution_count": null,
      "outputs": []
    },
    {
      "cell_type": "code",
      "source": [
        "# Do not modify this code\n",
        "print_tile(size=\"h3\", key='feature_selection_1_insights', value=feature_selection_1_insights)"
      ],
      "metadata": {
        "id": "937YFeqDFQgB",
        "colab": {
          "base_uri": "https://localhost:8080/",
          "height": 162
        },
        "outputId": "46ab6bcb-c391-4a55-c2d9-e6d28891d64e"
      },
      "execution_count": null,
      "outputs": [
        {
          "output_type": "display_data",
          "data": {
            "text/plain": [
              "<IPython.core.display.HTML object>"
            ],
            "text/html": [
              "<p style=\"color:grey\">feature_selection_1_insights</p><h3 font-size: 3em>\n",
              "start with a simple statistical method — Pearson correlation — to understand the linear relationship\n",
              "between each numerical feature and our target ('target_temperature_max_next_day').\n",
              "\n",
              "Findings:\n",
              "- 'temperature_2m_max' and 'temperature_2m_min' show a strong positive correlation with the target.\n",
              "- 'windspeed_10m_max' has a mild negative correlation.\n",
              "- 'precipitation_sum' shows weak correlation with temperature (which is expected).\n",
              "\n",
              "Limitations:\n",
              "Correlation captures only linear relationships and ignores feature interactions or non-linear effects.\n",
              "Despite that, it’s a good first filter to remove clearly irrelevant or redundant variables.\n",
              "</h3>"
            ]
          },
          "metadata": {}
        }
      ]
    },
    {
      "cell_type": "markdown",
      "source": [
        "### D.2 Approach \"\\<Feature Importance (Random Forest)\\>\"\n"
      ],
      "metadata": {
        "id": "jqRcgUqu3ZuV"
      }
    },
    {
      "cell_type": "code",
      "source": [
        "from sklearn.ensemble import RandomForestRegressor\n",
        "from sklearn.model_selection import train_test_split\n",
        "\n",
        "# Prepare features and target\n",
        "X = df[['temperature_2m_max', 'temperature_2m_min', 'precipitation_sum', 'windspeed_10m_max']]\n",
        "y = df[target_name]\n",
        "\n",
        "# Split into train/test\n",
        "X_train, X_test, y_train, y_test = train_test_split(X, y, test_size=0.2, random_state=42)\n",
        "\n",
        "# Fit model\n",
        "rf = RandomForestRegressor(random_state=42)\n",
        "rf.fit(X_train, y_train)\n",
        "\n",
        "# Get feature importances\n",
        "importances = rf.feature_importances_\n",
        "feature_importance_df = (\n",
        "    pd.DataFrame({'Feature': X.columns, 'Importance': importances})\n",
        "    .sort_values('Importance', ascending=False)\n",
        ")\n",
        "\n",
        "# Plot\n",
        "plt.figure(figsize=(8,4))\n",
        "sns.barplot(x='Importance', y='Feature', data=feature_importance_df, palette='viridis')\n",
        "plt.title('Feature Importance (Random Forest)')\n",
        "plt.show()\n",
        "\n",
        "feature_importance_df\n",
        "\n"
      ],
      "metadata": {
        "id": "dAPSiwcg3aJC",
        "colab": {
          "base_uri": "https://localhost:8080/",
          "height": 568
        },
        "outputId": "72ebf74a-29c2-4be8-a231-276503bf9347"
      },
      "execution_count": null,
      "outputs": [
        {
          "output_type": "display_data",
          "data": {
            "text/plain": [
              "<Figure size 800x400 with 1 Axes>"
            ],
            "image/png": "[encoded data removed]"
          },
          "metadata": {}
        },
        {
          "output_type": "execute_result",
          "data": {
            "text/plain": [
              "              Feature  Importance\n",
              "0  temperature_2m_max    0.687069\n",
              "3   windspeed_10m_max    0.126555\n",
              "1  temperature_2m_min    0.123467\n",
              "2   precipitation_sum    0.062908"
            ],
            "text/html": [
              "\n",
              "  <div id=\"df-c35d9cf2-f266-46d2-88dc-5dada7a020e4\" class=\"colab-df-container\">\n",
              "    <div>\n",
              "<style scoped>\n",
              "    .dataframe tbody tr th:only-of-type {\n",
              "        vertical-align: middle;\n",
              "    }\n",
              "\n",
              "    .dataframe tbody tr th {\n",
              "        vertical-align: top;\n",
              "    }\n",
              "\n",
              "    .dataframe thead th {\n",
              "        text-align: right;\n",
              "    }\n",
              "</style>\n",
              "<table border=\"1\" class=\"dataframe\">\n",
              "  <thead>\n",
              "    <tr style=\"text-align: right;\">\n",
              "      <th></th>\n",
              "      <th>Feature</th>\n",
              "      <th>Importance</th>\n",
              "    </tr>\n",
              "  </thead>\n",
              "  <tbody>\n",
              "    <tr>\n",
              "      <th>0</th>\n",
              "      <td>temperature_2m_max</td>\n",
              "      <td>0.687069</td>\n",
              "    </tr>\n",
              "    <tr>\n",
              "      <th>3</th>\n",
              "      <td>windspeed_10m_max</td>\n",
              "      <td>0.126555</td>\n",
              "    </tr>\n",
              "    <tr>\n",
              "      <th>1</th>\n",
              "      <td>temperature_2m_min</td>\n",
              "      <td>0.123467</td>\n",
              "    </tr>\n",
              "    <tr>\n",
              "      <th>2</th>\n",
              "      <td>precipitation_sum</td>\n",
              "      <td>0.062908</td>\n",
              "    </tr>\n",
              "  </tbody>\n",
              "</table>\n",
              "</div>\n",
              "    <div class=\"colab-df-buttons\">\n",
              "\n",
              "  <div class=\"colab-df-container\">\n",
              "    <button class=\"colab-df-convert\" onclick=\"convertToInteractive('df-c35d9cf2-f266-46d2-88dc-5dada7a020e4')\"\n",
              "            title=\"Convert this dataframe to an interactive table.\"\n",
              "            style=\"display:none;\">\n",
              "\n",
              "  <svg xmlns=\"http://www.w3.org/2000/svg\" height=\"24px\" viewBox=\"0 -960 960 960\">\n",
              "    <path d=\"M120-120v-720h720v720H120Zm60-500h600v-160H180v160Zm220 220h160v-160H400v160Zm0 220h160v-160H400v160ZM180-400h160v-160H180v160Zm440 0h160v-160H620v160ZM180-180h160v-160H180v160Zm440 0h160v-160H620v160Z\"/>\n",
              "  </svg>\n",
              "    </button>\n",
              "\n",
              "  <style>\n",
              "    .colab-df-container {\n",
              "      display:flex;\n",
              "      gap: 12px;\n",
              "    }\n",
              "\n",
              "    .colab-df-convert {\n",
              "      background-color: #E8F0FE;\n",
              "      border: none;\n",
              "      border-radius: 50%;\n",
              "      cursor: pointer;\n",
              "      display: none;\n",
              "      fill: #1967D2;\n",
              "      height: 32px;\n",
              "      padding: 0 0 0 0;\n",
              "      width: 32px;\n",
              "    }\n",
              "\n",
              "    .colab-df-convert:hover {\n",
              "      background-color: #E2EBFA;\n",
              "      box-shadow: 0px 1px 2px rgba(60, 64, 67, 0.3), 0px 1px 3px 1px rgba(60, 64, 67, 0.15);\n",
              "      fill: #174EA6;\n",
              "    }\n",
              "\n",
              "    .colab-df-buttons div {\n",
              "      margin-bottom: 4px;\n",
              "    }\n",
              "\n",
              "    [theme=dark] .colab-df-convert {\n",
              "      background-color: #3B4455;\n",
              "      fill: #D2E3FC;\n",
              "    }\n",
              "\n",
              "    [theme=dark] .colab-df-convert:hover {\n",
              "      background-color: #434B5C;\n",
              "      box-shadow: 0px 1px 3px 1px rgba(0, 0, 0, 0.15);\n",
              "      filter: drop-shadow(0px 1px 2px rgba(0, 0, 0, 0.3));\n",
              "      fill: #FFFFFF;\n",
              "    }\n",
              "  </style>\n",
              "\n",
              "    <script>\n",
              "      const buttonEl =\n",
              "        document.querySelector('#df-c35d9cf2-f266-46d2-88dc-5dada7a020e4 button.colab-df-convert');\n",
              "      buttonEl.style.display =\n",
              "        google.colab.kernel.accessAllowed ? 'block' : 'none';\n",
              "\n",
              "      async function convertToInteractive(key) {\n",
              "        const element = document.querySelector('#df-c35d9cf2-f266-46d2-88dc-5dada7a020e4');\n",
              "        const dataTable =\n",
              "          await google.colab.kernel.invokeFunction('convertToInteractive',\n",
              "                                                    [key], {});\n",
              "        if (!dataTable) return;\n",
              "\n",
              "        const docLinkHtml = 'Like what you see? Visit the ' +\n",
              "          '<a target=\"_blank\" href=https://colab.research.google.com/notebooks/data_table.ipynb>data table notebook</a>'\n",
              "          + ' to learn more about interactive tables.';\n",
              "        element.innerHTML = '';\n",
              "        dataTable['output_type'] = 'display_data';\n",
              "        await google.colab.output.renderOutput(dataTable, element);\n",
              "        const docLink = document.createElement('div');\n",
              "        docLink.innerHTML = docLinkHtml;\n",
              "        element.appendChild(docLink);\n",
              "      }\n",
              "    </script>\n",
              "  </div>\n",
              "\n",
              "\n",
              "    <div id=\"df-ceebe391-6566-404e-bf7f-77df71e73645\">\n",
              "      <button class=\"colab-df-quickchart\" onclick=\"quickchart('df-ceebe391-6566-404e-bf7f-77df71e73645')\"\n",
              "                title=\"Suggest charts\"\n",
              "                style=\"display:none;\">\n",
              "\n",
              "<svg xmlns=\"http://www.w3.org/2000/svg\" height=\"24px\"viewBox=\"0 0 24 24\"\n",
              "     width=\"24px\">\n",
              "    <g>\n",
              "        <path d=\"M19 3H5c-1.1 0-2 .9-2 2v14c0 1.1.9 2 2 2h14c1.1 0 2-.9 2-2V5c0-1.1-.9-2-2-2zM9 17H7v-7h2v7zm4 0h-2V7h2v10zm4 0h-2v-4h2v4z\"/>\n",
              "    </g>\n",
              "</svg>\n",
              "      </button>\n",
              "\n",
              "<style>\n",
              "  .colab-df-quickchart {\n",
              "      --bg-color: #E8F0FE;\n",
              "      --fill-color: #1967D2;\n",
              "      --hover-bg-color: #E2EBFA;\n",
              "      --hover-fill-color: #174EA6;\n",
              "      --disabled-fill-color: #AAA;\n",
              "      --disabled-bg-color: #DDD;\n",
              "  }\n",
              "\n",
              "  [theme=dark] .colab-df-quickchart {\n",
              "      --bg-color: #3B4455;\n",
              "      --fill-color: #D2E3FC;\n",
              "      --hover-bg-color: #434B5C;\n",
              "      --hover-fill-color: #FFFFFF;\n",
              "      --disabled-bg-color: #3B4455;\n",
              "      --disabled-fill-color: #666;\n",
              "  }\n",
              "\n",
              "  .colab-df-quickchart {\n",
              "    background-color: var(--bg-color);\n",
              "    border: none;\n",
              "    border-radius: 50%;\n",
              "    cursor: pointer;\n",
              "    display: none;\n",
              "    fill: var(--fill-color);\n",
              "    height: 32px;\n",
              "    padding: 0;\n",
              "    width: 32px;\n",
              "  }\n",
              "\n",
              "  .colab-df-quickchart:hover {\n",
              "    background-color: var(--hover-bg-color);\n",
              "    box-shadow: 0 1px 2px rgba(60, 64, 67, 0.3), 0 1px 3px 1px rgba(60, 64, 67, 0.15);\n",
              "    fill: var(--button-hover-fill-color);\n",
              "  }\n",
              "\n",
              "  .colab-df-quickchart-complete:disabled,\n",
              "  .colab-df-quickchart-complete:disabled:hover {\n",
              "    background-color: var(--disabled-bg-color);\n",
              "    fill: var(--disabled-fill-color);\n",
              "    box-shadow: none;\n",
              "  }\n",
              "\n",
              "  .colab-df-spinner {\n",
              "    border: 2px solid var(--fill-color);\n",
              "    border-color: transparent;\n",
              "    border-bottom-color: var(--fill-color);\n",
              "    animation:\n",
              "      spin 1s steps(1) infinite;\n",
              "  }\n",
              "\n",
              "  @keyframes spin {\n",
              "    0% {\n",
              "      border-color: transparent;\n",
              "      border-bottom-color: var(--fill-color);\n",
              "      border-left-color: var(--fill-color);\n",
              "    }\n",
              "    20% {\n",
              "      border-color: transparent;\n",
              "      border-left-color: var(--fill-color);\n",
              "      border-top-color: var(--fill-color);\n",
              "    }\n",
              "    30% {\n",
              "      border-color: transparent;\n",
              "      border-left-color: var(--fill-color);\n",
              "      border-top-color: var(--fill-color);\n",
              "      border-right-color: var(--fill-color);\n",
              "    }\n",
              "    40% {\n",
              "      border-color: transparent;\n",
              "      border-right-color: var(--fill-color);\n",
              "      border-top-color: var(--fill-color);\n",
              "    }\n",
              "    60% {\n",
              "      border-color: transparent;\n",
              "      border-right-color: var(--fill-color);\n",
              "    }\n",
              "    80% {\n",
              "      border-color: transparent;\n",
              "      border-right-color: var(--fill-color);\n",
              "      border-bottom-color: var(--fill-color);\n",
              "    }\n",
              "    90% {\n",
              "      border-color: transparent;\n",
              "      border-bottom-color: var(--fill-color);\n",
              "    }\n",
              "  }\n",
              "</style>\n",
              "\n",
              "      <script>\n",
              "        async function quickchart(key) {\n",
              "          const quickchartButtonEl =\n",
              "            document.querySelector('#' + key + ' button');\n",
              "          quickchartButtonEl.disabled = true;  // To prevent multiple clicks.\n",
              "          quickchartButtonEl.classList.add('colab-df-spinner');\n",
              "          try {\n",
              "            const charts = await google.colab.kernel.invokeFunction(\n",
              "                'suggestCharts', [key], {});\n",
              "          } catch (error) {\n",
              "            console.error('Error during call to suggestCharts:', error);\n",
              "          }\n",
              "          quickchartButtonEl.classList.remove('colab-df-spinner');\n",
              "          quickchartButtonEl.classList.add('colab-df-quickchart-complete');\n",
              "        }\n",
              "        (() => {\n",
              "          let quickchartButtonEl =\n",
              "            document.querySelector('#df-ceebe391-6566-404e-bf7f-77df71e73645 button');\n",
              "          quickchartButtonEl.style.display =\n",
              "            google.colab.kernel.accessAllowed ? 'block' : 'none';\n",
              "        })();\n",
              "      </script>\n",
              "    </div>\n",
              "\n",
              "  <div id=\"id_3396c413-f743-40e9-a274-2e27278f0dfc\">\n",
              "    <style>\n",
              "      .colab-df-generate {\n",
              "        background-color: #E8F0FE;\n",
              "        border: none;\n",
              "        border-radius: 50%;\n",
              "        cursor: pointer;\n",
              "        display: none;\n",
              "        fill: #1967D2;\n",
              "        height: 32px;\n",
              "        padding: 0 0 0 0;\n",
              "        width: 32px;\n",
              "      }\n",
              "\n",
              "      .colab-df-generate:hover {\n",
              "        background-color: #E2EBFA;\n",
              "        box-shadow: 0px 1px 2px rgba(60, 64, 67, 0.3), 0px 1px 3px 1px rgba(60, 64, 67, 0.15);\n",
              "        fill: #174EA6;\n",
              "      }\n",
              "\n",
              "      [theme=dark] .colab-df-generate {\n",
              "        background-color: #3B4455;\n",
              "        fill: #D2E3FC;\n",
              "      }\n",
              "\n",
              "      [theme=dark] .colab-df-generate:hover {\n",
              "        background-color: #434B5C;\n",
              "        box-shadow: 0px 1px 3px 1px rgba(0, 0, 0, 0.15);\n",
              "        filter: drop-shadow(0px 1px 2px rgba(0, 0, 0, 0.3));\n",
              "        fill: #FFFFFF;\n",
              "      }\n",
              "    </style>\n",
              "    <button class=\"colab-df-generate\" onclick=\"generateWithVariable('feature_importance_df')\"\n",
              "            title=\"Generate code using this dataframe.\"\n",
              "            style=\"display:none;\">\n",
              "\n",
              "  <svg xmlns=\"http://www.w3.org/2000/svg\" height=\"24px\"viewBox=\"0 0 24 24\"\n",
              "       width=\"24px\">\n",
              "    <path d=\"M7,19H8.4L18.45,9,17,7.55,7,17.6ZM5,21V16.75L18.45,3.32a2,2,0,0,1,2.83,0l1.4,1.43a1.91,1.91,0,0,1,.58,1.4,1.91,1.91,0,0,1-.58,1.4L9.25,21ZM18.45,9,17,7.55Zm-12,3A5.31,5.31,0,0,0,4.9,8.1,5.31,5.31,0,0,0,1,6.5,5.31,5.31,0,0,0,4.9,4.9,5.31,5.31,0,0,0,6.5,1,5.31,5.31,0,0,0,8.1,4.9,5.31,5.31,0,0,0,12,6.5,5.46,5.46,0,0,0,6.5,12Z\"/>\n",
              "  </svg>\n",
              "    </button>\n",
              "    <script>\n",
              "      (() => {\n",
              "      const buttonEl =\n",
              "        document.querySelector('#id_3396c413-f743-40e9-a274-2e27278f0dfc button.colab-df-generate');\n",
              "      buttonEl.style.display =\n",
              "        google.colab.kernel.accessAllowed ? 'block' : 'none';\n",
              "\n",
              "      buttonEl.onclick = () => {\n",
              "        google.colab.notebook.generateWithVariable('feature_importance_df');\n",
              "      }\n",
              "      })();\n",
              "    </script>\n",
              "  </div>\n",
              "\n",
              "    </div>\n",
              "  </div>\n"
            ],
            "application/vnd.google.colaboratory.intrinsic+json": {
              "type": "dataframe",
              "variable_name": "feature_importance_df",
              "summary": "{\n  \"name\": \"feature_importance_df\",\n  \"rows\": 4,\n  \"fields\": [\n    {\n      \"column\": \"Feature\",\n      \"properties\": {\n        \"dtype\": \"string\",\n        \"num_unique_values\": 4,\n        \"samples\": [\n          \"windspeed_10m_max\",\n          \"precipitation_sum\",\n          \"temperature_2m_max\"\n        ],\n        \"semantic_type\": \"\",\n        \"description\": \"\"\n      }\n    },\n    {\n      \"column\": \"Importance\",\n      \"properties\": {\n        \"dtype\": \"number\",\n        \"std\": 0.292849272908765,\n        \"min\": 0.0629084892520037,\n        \"max\": 0.6870693616899758,\n        \"num_unique_values\": 4,\n        \"samples\": [\n          0.12655487288716077,\n          0.0629084892520037,\n          0.6870693616899758\n        ],\n        \"semantic_type\": \"\",\n        \"description\": \"\"\n      }\n    }\n  ]\n}"
            }
          },
          "metadata": {},
          "execution_count": 49
        }
      ]
    },
    {
      "cell_type": "code",
      "source": [
        "# <Student to fill this section>\n",
        "feature_selection_2_insights = \"\"\"\n",
        "Random Forest model to assess how much each feature contributes to the target prediction.\n",
        "Unlike correlation, this approach captures non-linear and interaction effects between variables.\n",
        "\n",
        "Findings:\n",
        "- 'temperature_2m_max' and 'temperature_2m_min' are the top predictors.\n",
        "- 'precipitation_sum' and 'windspeed_10m_max' have smaller but still useful contributions.\n",
        "- The results align with the intuition that temperature dynamics drive next-day temperature prediction.\n",
        "\n",
        "This approach helps prioritise features that truly improve predictive performance, not just correlate.\n",
        "\"\"\""
      ],
      "metadata": {
        "id": "CpQQodTW3a9v"
      },
      "execution_count": null,
      "outputs": []
    },
    {
      "cell_type": "code",
      "source": [
        "# Do not modify this code\n",
        "print_tile(size=\"h3\", key='feature_selection_2_insights', value=feature_selection_2_insights)"
      ],
      "metadata": {
        "id": "HjN2qhDb3a0G",
        "colab": {
          "base_uri": "https://localhost:8080/",
          "height": 162
        },
        "outputId": "81f3894f-f0d2-4808-80cc-6b19d14877d1"
      },
      "execution_count": null,
      "outputs": [
        {
          "output_type": "display_data",
          "data": {
            "text/plain": [
              "<IPython.core.display.HTML object>"
            ],
            "text/html": [
              "<p style=\"color:grey\">feature_selection_2_insights</p><h3 font-size: 3em>\n",
              "Random Forest model to assess how much each feature contributes to the target prediction.\n",
              "Unlike correlation, this approach captures non-linear and interaction effects between variables.\n",
              "\n",
              "Findings:\n",
              "- 'temperature_2m_max' and 'temperature_2m_min' are the top predictors.\n",
              "- 'precipitation_sum' and 'windspeed_10m_max' have smaller but still useful contributions.\n",
              "- The results align with the intuition that temperature dynamics drive next-day temperature prediction.\n",
              "\n",
              "This approach helps prioritise features that truly improve predictive performance, not just correlate.\n",
              "</h3>"
            ]
          },
          "metadata": {}
        }
      ]
    },
    {
      "cell_type": "markdown",
      "source": [
        "### D.n Approach \"\\<describe_approach_here\\>\"\n",
        "\n",
        "> You can add more cells related to other approaches in this section"
      ],
      "metadata": {
        "id": "6sK5poaV3hny"
      }
    },
    {
      "cell_type": "code",
      "source": [],
      "metadata": {
        "id": "AatlZepC3h_D"
      },
      "execution_count": null,
      "outputs": []
    },
    {
      "cell_type": "markdown",
      "source": [
        "## D.z Final Selection of Features"
      ],
      "metadata": {
        "id": "gS5-tS8_3ryn"
      }
    },
    {
      "cell_type": "code",
      "source": [
        "\n",
        "features_list = [\n",
        "    'temperature_2m_max',\n",
        "    'temperature_2m_min',\n",
        "    'precipitation_sum',\n",
        "    'windspeed_10m_max'\n",
        "]\n",
        "print(\"Final features selected:\", features_list)"
      ],
      "metadata": {
        "id": "zYY4u2063ioF",
        "colab": {
          "base_uri": "https://localhost:8080/"
        },
        "outputId": "e3f2a107-9c38-471d-a41f-e5b16ea67dde"
      },
      "execution_count": null,
      "outputs": [
        {
          "output_type": "stream",
          "name": "stdout",
          "text": [
            "Final features selected: ['temperature_2m_max', 'temperature_2m_min', 'precipitation_sum', 'windspeed_10m_max']\n"
          ]
        }
      ]
    },
    {
      "cell_type": "code",
      "source": [
        "# <Student to fill this section>\n",
        "feature_selection_explanations = \"\"\"\n",
        "Final Feature Selection:\n",
        "\n",
        "After reviewing both correlation and Random Forest importance results, we selected:\n",
        "1. temperature_2m_max — strongest predictor of next-day temperature\n",
        "2. temperature_2m_min — complements max temp to represent daily thermal range\n",
        "3. precipitation_sum — adds weather condition context (clouds, humidity, etc.)\n",
        "4. windspeed_10m_max — contributes to atmospheric movement patterns\n",
        "\n",
        "Together, these features balance predictive strength and physical weather relevance,\n",
        "while avoiding redundancy and overfitting.\n",
        "\"\"\""
      ],
      "metadata": {
        "id": "-pxVH1r63vqu"
      },
      "execution_count": null,
      "outputs": []
    },
    {
      "cell_type": "code",
      "source": [
        "# Do not modify this code\n",
        "print_tile(size=\"h3\", key='feature_selection_explanations', value=feature_selection_explanations)"
      ],
      "metadata": {
        "id": "rHluIUmR3iO3",
        "colab": {
          "base_uri": "https://localhost:8080/",
          "height": 142
        },
        "outputId": "9d3b13a5-d15d-4e30-a1a8-d0fc53be5f79"
      },
      "execution_count": null,
      "outputs": [
        {
          "output_type": "display_data",
          "data": {
            "text/plain": [
              "<IPython.core.display.HTML object>"
            ],
            "text/html": [
              "<p style=\"color:grey\">feature_selection_explanations</p><h3 font-size: 3em>\n",
              "Final Feature Selection:\n",
              "\n",
              "After reviewing both correlation and Random Forest importance results, we selected:\n",
              "1. temperature_2m_max — strongest predictor of next-day temperature\n",
              "2. temperature_2m_min — complements max temp to represent daily thermal range\n",
              "3. precipitation_sum — adds weather condition context (clouds, humidity, etc.)\n",
              "4. windspeed_10m_max — contributes to atmospheric movement patterns\n",
              "\n",
              "Together, these features balance predictive strength and physical weather relevance,\n",
              "while avoiding redundancy and overfitting.\n",
              "</h3>"
            ]
          },
          "metadata": {}
        }
      ]
    },
    {
      "cell_type": "markdown",
      "source": [
        "---\n",
        "## E. Data Preparation"
      ],
      "metadata": {
        "id": "j-nNSpJK0Rgu"
      }
    },
    {
      "cell_type": "markdown",
      "source": [
        "### E.1 Data Transformation <put_name_here>"
      ],
      "metadata": {
        "id": "EDtRq1990rcW"
      }
    },
    {
      "cell_type": "code",
      "source": [
        "# Check missing values\n",
        "print(df.isna().sum())\n",
        "\n",
        "# For simplicity, fill numeric features with median\n",
        "numeric_features = ['temperature_2m_max', 'temperature_2m_min', 'precipitation_sum', 'windspeed_10m_max']\n",
        "df[numeric_features] = df[numeric_features].fillna(df[numeric_features].median())\n",
        "\n",
        "# Check target\n",
        "print(df[target_name].isna().sum())  # should be zero after target creation"
      ],
      "metadata": {
        "id": "AZN0u9DD0v5X",
        "colab": {
          "base_uri": "https://localhost:8080/"
        },
        "outputId": "9ef84fcd-2e3d-4f93-a9af-c292062b8ef4"
      },
      "execution_count": null,
      "outputs": [
        {
          "output_type": "stream",
          "name": "stdout",
          "text": [
            "time                               0\n",
            "temperature_2m_max                 0\n",
            "temperature_2m_min                 0\n",
            "precipitation_sum                  0\n",
            "windspeed_10m_max                  0\n",
            "target_temperature_max_next_day    0\n",
            "dtype: int64\n",
            "0\n"
          ]
        }
      ]
    },
    {
      "cell_type": "code",
      "source": [
        "# <Student to fill this section>\n",
        "data_cleaning_1_explanations = \"\"\"\n",
        "Missing values can bias model predictions and reduce accuracy.\n",
        "Filling numeric features with the median preserves the central tendency without introducing extreme values.\n",
        "Ensures the dataset is complete for training and avoids errors in ML pipelines.\n",
        "\"\"\""
      ],
      "metadata": {
        "id": "eQGXvLtkFU9L"
      },
      "execution_count": null,
      "outputs": []
    },
    {
      "cell_type": "code",
      "source": [
        "# Do not modify this code\n",
        "print_tile(size=\"h3\", key='data_cleaning_1_explanations', value=data_cleaning_1_explanations)"
      ],
      "metadata": {
        "id": "MPuYme1uFU_4",
        "colab": {
          "base_uri": "https://localhost:8080/",
          "height": 101
        },
        "outputId": "5a0ef4bb-158f-493f-9254-82dfa46751f9"
      },
      "execution_count": null,
      "outputs": [
        {
          "output_type": "display_data",
          "data": {
            "text/plain": [
              "<IPython.core.display.HTML object>"
            ],
            "text/html": [
              "<p style=\"color:grey\">data_cleaning_1_explanations</p><h3 font-size: 3em>\n",
              "Missing values can bias model predictions and reduce accuracy.\n",
              "Filling numeric features with the median preserves the central tendency without introducing extreme values.\n",
              "Ensures the dataset is complete for training and avoids errors in ML pipelines.\n",
              "</h3>"
            ]
          },
          "metadata": {}
        }
      ]
    },
    {
      "cell_type": "markdown",
      "source": [
        "### E.2 Data Transformation <put_name_here>"
      ],
      "metadata": {
        "id": "SxhDoAkw08Eb"
      }
    },
    {
      "cell_type": "code",
      "source": [
        "\n",
        "from sklearn.preprocessing import StandardScaler\n",
        "\n",
        "# Ensure artifacts folder exists\n",
        "ARTIFACTS_DIR = Path(\"artifacts\")\n",
        "ARTIFACTS_DIR.mkdir(parents=True, exist_ok=True)  # creates the folder if it doesn't exist\n",
        "\n",
        "# Save the scaler\n",
        "scaler_path = ARTIFACTS_DIR / \"scaler.pkl\"\n",
        "joblib.dump(scaler, scaler_path)\n",
        "\n",
        "print(f\"Scaler saved to {scaler_path}\")\n",
        "\n",
        "scaler = StandardScaler()\n",
        "df_scaled = df.copy()\n",
        "df_scaled[numeric_features] = scaler.fit_transform(df_scaled[numeric_features])\n",
        "\n",
        "# Save scaler for future use in production\n",
        "import joblib\n",
        "joblib.dump(scaler, 'artifacts/scaler.pkl')"
      ],
      "metadata": {
        "id": "OO5ITMDZ035_",
        "colab": {
          "base_uri": "https://localhost:8080/"
        },
        "outputId": "3cfbd5c6-5f9d-4edc-e4ff-9fdb5b439c73"
      },
      "execution_count": null,
      "outputs": [
        {
          "output_type": "stream",
          "name": "stdout",
          "text": [
            "Scaler saved to artifacts/scaler.pkl\n"
          ]
        },
        {
          "output_type": "execute_result",
          "data": {
            "text/plain": [
              "['artifacts/scaler.pkl']"
            ]
          },
          "metadata": {},
          "execution_count": 62
        }
      ]
    },
    {
      "cell_type": "code",
      "source": [],
      "metadata": {
        "id": "4OlbuimwVqjd"
      },
      "execution_count": null,
      "outputs": []
    },
    {
      "cell_type": "code",
      "source": [
        "# <Student to fill this section>\n",
        "data_cleaning_2_explanations = \"\"\"\n",
        "Scaling numeric features ensures that features with larger magnitudes do not dominate the model.\n",
        "This is particularly important for models sensitive to feature scale, e.g., linear regression or distance-based models.\n",
        "StandardScaler centers data to zero mean and unit variance for consistent model training.\n",
        "\n",
        "\"\"\""
      ],
      "metadata": {
        "id": "NoQ6IWoFFb1y"
      },
      "execution_count": null,
      "outputs": []
    },
    {
      "cell_type": "code",
      "source": [
        "# Do not modify this code\n",
        "print_tile(size=\"h3\", key='data_cleaning_2_explanations', value=data_cleaning_2_explanations)"
      ],
      "metadata": {
        "id": "n1NG6O-jFdOE",
        "colab": {
          "base_uri": "https://localhost:8080/",
          "height": 122
        },
        "outputId": "8aa38d68-b7a8-467a-9191-eb977171e476"
      },
      "execution_count": null,
      "outputs": [
        {
          "output_type": "display_data",
          "data": {
            "text/plain": [
              "<IPython.core.display.HTML object>"
            ],
            "text/html": [
              "<p style=\"color:grey\">data_cleaning_2_explanations</p><h3 font-size: 3em>\n",
              "Scaling numeric features ensures that features with larger magnitudes do not dominate the model.\n",
              "This is particularly important for models sensitive to feature scale, e.g., linear regression or distance-based models.\n",
              "StandardScaler centers data to zero mean and unit variance for consistent model training.\n",
              "\n",
              "</h3>"
            ]
          },
          "metadata": {}
        }
      ]
    },
    {
      "cell_type": "markdown",
      "source": [
        "### E.3 Data Transformation <put_name_here>"
      ],
      "metadata": {
        "id": "ylQxO-4g03qH"
      }
    },
    {
      "cell_type": "code",
      "source": [
        "# Ensure 'time' column is datetime\n",
        "df_scaled['time'] = pd.to_datetime(df_scaled['time'], errors='coerce')\n",
        "\n",
        "# Drop rows where conversion failed\n",
        "df_scaled = df_scaled.dropna(subset=['time']).reset_index(drop=True)\n",
        "\n",
        "# --- Feature 1: Day of year (seasonality) ---\n",
        "df_scaled['day_of_year'] = df_scaled['time'].dt.dayofyear\n",
        "\n",
        "# --- Feature 2: Rolling mean temperature (past 3 days) ---\n",
        "df_scaled['temp_max_3day_mean'] = df_scaled['temperature_2m_max'].rolling(window=3, min_periods=1).mean()\n",
        "\n",
        "# --- Feature 3: Rolling cumulative precipitation (past 3 days) ---\n",
        "df_scaled['precip_3day_sum'] = df_scaled['precipitation_sum'].rolling(window=3, min_periods=1).sum()\n",
        "\n",
        "# --- Optional: Weekday feature (for patterns by day of week) ---\n",
        "df_scaled['weekday'] = df_scaled['time'].dt.weekday  # 0=Monday, 6=Sunday\n",
        "\n",
        "# Preview new features\n",
        "df_scaled.head()"
      ],
      "metadata": {
        "id": "5VymIZpS1Ch7",
        "colab": {
          "base_uri": "https://localhost:8080/",
          "height": 313
        },
        "outputId": "c9aa1038-d34c-4c91-8251-3e22a7da0694"
      },
      "execution_count": null,
      "outputs": [
        {
          "output_type": "execute_result",
          "data": {
            "text/plain": [
              "        time  temperature_2m_max  temperature_2m_min  precipitation_sum  \\\n",
              "0 2023-01-01            0.630330            0.988338          -0.318823   \n",
              "1 2023-01-02            0.788331            1.095497          -0.403126   \n",
              "2 2023-01-03            0.901189            0.988338          -0.403126   \n",
              "3 2023-01-04            0.494901            1.202656           1.384097   \n",
              "4 2023-01-05           -0.385391            0.838315           9.224271   \n",
              "\n",
              "   windspeed_10m_max  target_temperature_max_next_day  day_of_year  \\\n",
              "0          -0.109099                             25.9            1   \n",
              "1           0.546880                             26.4            2   \n",
              "2          -0.176379                             24.6            3   \n",
              "3           1.118759                             20.7            4   \n",
              "4           2.413898                             19.2            5   \n",
              "\n",
              "   temp_max_3day_mean  precip_3day_sum  weekday  \n",
              "0            0.630330        -0.318823        6  \n",
              "1            0.709331        -0.721948        0  \n",
              "2            0.773283        -1.125074        1  \n",
              "3            0.728140         0.577846        2  \n",
              "4            0.336899        10.205243        3  "
            ],
            "text/html": [
              "\n",
              "  <div id=\"df-62fcf427-b2a4-464f-bd4b-d6f04ced11b0\" class=\"colab-df-container\">\n",
              "    <div>\n",
              "<style scoped>\n",
              "    .dataframe tbody tr th:only-of-type {\n",
              "        vertical-align: middle;\n",
              "    }\n",
              "\n",
              "    .dataframe tbody tr th {\n",
              "        vertical-align: top;\n",
              "    }\n",
              "\n",
              "    .dataframe thead th {\n",
              "        text-align: right;\n",
              "    }\n",
              "</style>\n",
              "<table border=\"1\" class=\"dataframe\">\n",
              "  <thead>\n",
              "    <tr style=\"text-align: right;\">\n",
              "      <th></th>\n",
              "      <th>time</th>\n",
              "      <th>temperature_2m_max</th>\n",
              "      <th>temperature_2m_min</th>\n",
              "      <th>precipitation_sum</th>\n",
              "      <th>windspeed_10m_max</th>\n",
              "      <th>target_temperature_max_next_day</th>\n",
              "      <th>day_of_year</th>\n",
              "      <th>temp_max_3day_mean</th>\n",
              "      <th>precip_3day_sum</th>\n",
              "      <th>weekday</th>\n",
              "    </tr>\n",
              "  </thead>\n",
              "  <tbody>\n",
              "    <tr>\n",
              "      <th>0</th>\n",
              "      <td>2023-01-01</td>\n",
              "      <td>0.630330</td>\n",
              "      <td>0.988338</td>\n",
              "      <td>-0.318823</td>\n",
              "      <td>-0.109099</td>\n",
              "      <td>25.9</td>\n",
              "      <td>1</td>\n",
              "      <td>0.630330</td>\n",
              "      <td>-0.318823</td>\n",
              "      <td>6</td>\n",
              "    </tr>\n",
              "    <tr>\n",
              "      <th>1</th>\n",
              "      <td>2023-01-02</td>\n",
              "      <td>0.788331</td>\n",
              "      <td>1.095497</td>\n",
              "      <td>-0.403126</td>\n",
              "      <td>0.546880</td>\n",
              "      <td>26.4</td>\n",
              "      <td>2</td>\n",
              "      <td>0.709331</td>\n",
              "      <td>-0.721948</td>\n",
              "      <td>0</td>\n",
              "    </tr>\n",
              "    <tr>\n",
              "      <th>2</th>\n",
              "      <td>2023-01-03</td>\n",
              "      <td>0.901189</td>\n",
              "      <td>0.988338</td>\n",
              "      <td>-0.403126</td>\n",
              "      <td>-0.176379</td>\n",
              "      <td>24.6</td>\n",
              "      <td>3</td>\n",
              "      <td>0.773283</td>\n",
              "      <td>-1.125074</td>\n",
              "      <td>1</td>\n",
              "    </tr>\n",
              "    <tr>\n",
              "      <th>3</th>\n",
              "      <td>2023-01-04</td>\n",
              "      <td>0.494901</td>\n",
              "      <td>1.202656</td>\n",
              "      <td>1.384097</td>\n",
              "      <td>1.118759</td>\n",
              "      <td>20.7</td>\n",
              "      <td>4</td>\n",
              "      <td>0.728140</td>\n",
              "      <td>0.577846</td>\n",
              "      <td>2</td>\n",
              "    </tr>\n",
              "    <tr>\n",
              "      <th>4</th>\n",
              "      <td>2023-01-05</td>\n",
              "      <td>-0.385391</td>\n",
              "      <td>0.838315</td>\n",
              "      <td>9.224271</td>\n",
              "      <td>2.413898</td>\n",
              "      <td>19.2</td>\n",
              "      <td>5</td>\n",
              "      <td>0.336899</td>\n",
              "      <td>10.205243</td>\n",
              "      <td>3</td>\n",
              "    </tr>\n",
              "  </tbody>\n",
              "</table>\n",
              "</div>\n",
              "    <div class=\"colab-df-buttons\">\n",
              "\n",
              "  <div class=\"colab-df-container\">\n",
              "    <button class=\"colab-df-convert\" onclick=\"convertToInteractive('df-62fcf427-b2a4-464f-bd4b-d6f04ced11b0')\"\n",
              "            title=\"Convert this dataframe to an interactive table.\"\n",
              "            style=\"display:none;\">\n",
              "\n",
              "  <svg xmlns=\"http://www.w3.org/2000/svg\" height=\"24px\" viewBox=\"0 -960 960 960\">\n",
              "    <path d=\"M120-120v-720h720v720H120Zm60-500h600v-160H180v160Zm220 220h160v-160H400v160Zm0 220h160v-160H400v160ZM180-400h160v-160H180v160Zm440 0h160v-160H620v160ZM180-180h160v-160H180v160Zm440 0h160v-160H620v160Z\"/>\n",
              "  </svg>\n",
              "    </button>\n",
              "\n",
              "  <style>\n",
              "    .colab-df-container {\n",
              "      display:flex;\n",
              "      gap: 12px;\n",
              "    }\n",
              "\n",
              "    .colab-df-convert {\n",
              "      background-color: #E8F0FE;\n",
              "      border: none;\n",
              "      border-radius: 50%;\n",
              "      cursor: pointer;\n",
              "      display: none;\n",
              "      fill: #1967D2;\n",
              "      height: 32px;\n",
              "      padding: 0 0 0 0;\n",
              "      width: 32px;\n",
              "    }\n",
              "\n",
              "    .colab-df-convert:hover {\n",
              "      background-color: #E2EBFA;\n",
              "      box-shadow: 0px 1px 2px rgba(60, 64, 67, 0.3), 0px 1px 3px 1px rgba(60, 64, 67, 0.15);\n",
              "      fill: #174EA6;\n",
              "    }\n",
              "\n",
              "    .colab-df-buttons div {\n",
              "      margin-bottom: 4px;\n",
              "    }\n",
              "\n",
              "    [theme=dark] .colab-df-convert {\n",
              "      background-color: #3B4455;\n",
              "      fill: #D2E3FC;\n",
              "    }\n",
              "\n",
              "    [theme=dark] .colab-df-convert:hover {\n",
              "      background-color: #434B5C;\n",
              "      box-shadow: 0px 1px 3px 1px rgba(0, 0, 0, 0.15);\n",
              "      filter: drop-shadow(0px 1px 2px rgba(0, 0, 0, 0.3));\n",
              "      fill: #FFFFFF;\n",
              "    }\n",
              "  </style>\n",
              "\n",
              "    <script>\n",
              "      const buttonEl =\n",
              "        document.querySelector('#df-62fcf427-b2a4-464f-bd4b-d6f04ced11b0 button.colab-df-convert');\n",
              "      buttonEl.style.display =\n",
              "        google.colab.kernel.accessAllowed ? 'block' : 'none';\n",
              "\n",
              "      async function convertToInteractive(key) {\n",
              "        const element = document.querySelector('#df-62fcf427-b2a4-464f-bd4b-d6f04ced11b0');\n",
              "        const dataTable =\n",
              "          await google.colab.kernel.invokeFunction('convertToInteractive',\n",
              "                                                    [key], {});\n",
              "        if (!dataTable) return;\n",
              "\n",
              "        const docLinkHtml = 'Like what you see? Visit the ' +\n",
              "          '<a target=\"_blank\" href=https://colab.research.google.com/notebooks/data_table.ipynb>data table notebook</a>'\n",
              "          + ' to learn more about interactive tables.';\n",
              "        element.innerHTML = '';\n",
              "        dataTable['output_type'] = 'display_data';\n",
              "        await google.colab.output.renderOutput(dataTable, element);\n",
              "        const docLink = document.createElement('div');\n",
              "        docLink.innerHTML = docLinkHtml;\n",
              "        element.appendChild(docLink);\n",
              "      }\n",
              "    </script>\n",
              "  </div>\n",
              "\n",
              "\n",
              "    <div id=\"df-fd40e738-7891-4e01-acf3-de3313eb51d7\">\n",
              "      <button class=\"colab-df-quickchart\" onclick=\"quickchart('df-fd40e738-7891-4e01-acf3-de3313eb51d7')\"\n",
              "                title=\"Suggest charts\"\n",
              "                style=\"display:none;\">\n",
              "\n",
              "<svg xmlns=\"http://www.w3.org/2000/svg\" height=\"24px\"viewBox=\"0 0 24 24\"\n",
              "     width=\"24px\">\n",
              "    <g>\n",
              "        <path d=\"M19 3H5c-1.1 0-2 .9-2 2v14c0 1.1.9 2 2 2h14c1.1 0 2-.9 2-2V5c0-1.1-.9-2-2-2zM9 17H7v-7h2v7zm4 0h-2V7h2v10zm4 0h-2v-4h2v4z\"/>\n",
              "    </g>\n",
              "</svg>\n",
              "      </button>\n",
              "\n",
              "<style>\n",
              "  .colab-df-quickchart {\n",
              "      --bg-color: #E8F0FE;\n",
              "      --fill-color: #1967D2;\n",
              "      --hover-bg-color: #E2EBFA;\n",
              "      --hover-fill-color: #174EA6;\n",
              "      --disabled-fill-color: #AAA;\n",
              "      --disabled-bg-color: #DDD;\n",
              "  }\n",
              "\n",
              "  [theme=dark] .colab-df-quickchart {\n",
              "      --bg-color: #3B4455;\n",
              "      --fill-color: #D2E3FC;\n",
              "      --hover-bg-color: #434B5C;\n",
              "      --hover-fill-color: #FFFFFF;\n",
              "      --disabled-bg-color: #3B4455;\n",
              "      --disabled-fill-color: #666;\n",
              "  }\n",
              "\n",
              "  .colab-df-quickchart {\n",
              "    background-color: var(--bg-color);\n",
              "    border: none;\n",
              "    border-radius: 50%;\n",
              "    cursor: pointer;\n",
              "    display: none;\n",
              "    fill: var(--fill-color);\n",
              "    height: 32px;\n",
              "    padding: 0;\n",
              "    width: 32px;\n",
              "  }\n",
              "\n",
              "  .colab-df-quickchart:hover {\n",
              "    background-color: var(--hover-bg-color);\n",
              "    box-shadow: 0 1px 2px rgba(60, 64, 67, 0.3), 0 1px 3px 1px rgba(60, 64, 67, 0.15);\n",
              "    fill: var(--button-hover-fill-color);\n",
              "  }\n",
              "\n",
              "  .colab-df-quickchart-complete:disabled,\n",
              "  .colab-df-quickchart-complete:disabled:hover {\n",
              "    background-color: var(--disabled-bg-color);\n",
              "    fill: var(--disabled-fill-color);\n",
              "    box-shadow: none;\n",
              "  }\n",
              "\n",
              "  .colab-df-spinner {\n",
              "    border: 2px solid var(--fill-color);\n",
              "    border-color: transparent;\n",
              "    border-bottom-color: var(--fill-color);\n",
              "    animation:\n",
              "      spin 1s steps(1) infinite;\n",
              "  }\n",
              "\n",
              "  @keyframes spin {\n",
              "    0% {\n",
              "      border-color: transparent;\n",
              "      border-bottom-color: var(--fill-color);\n",
              "      border-left-color: var(--fill-color);\n",
              "    }\n",
              "    20% {\n",
              "      border-color: transparent;\n",
              "      border-left-color: var(--fill-color);\n",
              "      border-top-color: var(--fill-color);\n",
              "    }\n",
              "    30% {\n",
              "      border-color: transparent;\n",
              "      border-left-color: var(--fill-color);\n",
              "      border-top-color: var(--fill-color);\n",
              "      border-right-color: var(--fill-color);\n",
              "    }\n",
              "    40% {\n",
              "      border-color: transparent;\n",
              "      border-right-color: var(--fill-color);\n",
              "      border-top-color: var(--fill-color);\n",
              "    }\n",
              "    60% {\n",
              "      border-color: transparent;\n",
              "      border-right-color: var(--fill-color);\n",
              "    }\n",
              "    80% {\n",
              "      border-color: transparent;\n",
              "      border-right-color: var(--fill-color);\n",
              "      border-bottom-color: var(--fill-color);\n",
              "    }\n",
              "    90% {\n",
              "      border-color: transparent;\n",
              "      border-bottom-color: var(--fill-color);\n",
              "    }\n",
              "  }\n",
              "</style>\n",
              "\n",
              "      <script>\n",
              "        async function quickchart(key) {\n",
              "          const quickchartButtonEl =\n",
              "            document.querySelector('#' + key + ' button');\n",
              "          quickchartButtonEl.disabled = true;  // To prevent multiple clicks.\n",
              "          quickchartButtonEl.classList.add('colab-df-spinner');\n",
              "          try {\n",
              "            const charts = await google.colab.kernel.invokeFunction(\n",
              "                'suggestCharts', [key], {});\n",
              "          } catch (error) {\n",
              "            console.error('Error during call to suggestCharts:', error);\n",
              "          }\n",
              "          quickchartButtonEl.classList.remove('colab-df-spinner');\n",
              "          quickchartButtonEl.classList.add('colab-df-quickchart-complete');\n",
              "        }\n",
              "        (() => {\n",
              "          let quickchartButtonEl =\n",
              "            document.querySelector('#df-fd40e738-7891-4e01-acf3-de3313eb51d7 button');\n",
              "          quickchartButtonEl.style.display =\n",
              "            google.colab.kernel.accessAllowed ? 'block' : 'none';\n",
              "        })();\n",
              "      </script>\n",
              "    </div>\n",
              "\n",
              "    </div>\n",
              "  </div>\n"
            ],
            "application/vnd.google.colaboratory.intrinsic+json": {
              "type": "dataframe",
              "variable_name": "df_scaled",
              "summary": "{\n  \"name\": \"df_scaled\",\n  \"rows\": 364,\n  \"fields\": [\n    {\n      \"column\": \"time\",\n      \"properties\": {\n        \"dtype\": \"date\",\n        \"min\": \"2023-01-01 00:00:00\",\n        \"max\": \"2023-12-30 00:00:00\",\n        \"num_unique_values\": 364,\n        \"samples\": [\n          \"2023-07-13 00:00:00\",\n          \"2023-02-03 00:00:00\",\n          \"2023-01-16 00:00:00\"\n        ],\n        \"semantic_type\": \"\",\n        \"description\": \"\"\n      }\n    },\n    {\n      \"column\": \"temperature_2m_max\",\n      \"properties\": {\n        \"dtype\": \"number\",\n        \"std\": 1.0013764631429272,\n        \"min\": -2.529691670656223,\n        \"max\": 3.767780257402691,\n        \"num_unique_values\": 150,\n        \"samples\": [\n          -0.8593944567624607,\n          0.2917563257859423,\n          -1.6268283117947302\n        ],\n        \"semantic_type\": \"\",\n        \"description\": \"\"\n      }\n    },\n    {\n      \"column\": \"temperature_2m_min\",\n      \"properties\": {\n        \"dtype\": \"number\",\n        \"std\": 1.0013764631429283,\n        \"min\": -2.205006869767479,\n        \"max\": 1.9742024123712563,\n        \"num_unique_values\": 149,\n        \"samples\": [\n          -0.8333689515270736,\n          1.7813158301186995,\n          -1.4120286982847445\n        ],\n        \"semantic_type\": \"\",\n        \"description\": \"\"\n      }\n    },\n    {\n      \"column\": \"precipitation_sum\",\n      \"properties\": {\n        \"dtype\": \"number\",\n        \"std\": 1.0013764631429296,\n        \"min\": -0.4031255920677728,\n        \"max\": 9.224271346658432,\n        \"num_unique_values\": 89,\n        \"samples\": [\n          0.5242068626256444,\n          0.08583152040693809,\n          3.255622456449892\n        ],\n        \"semantic_type\": \"\",\n        \"description\": \"\"\n      }\n    },\n    {\n      \"column\": \"windspeed_10m_max\",\n      \"properties\": {\n        \"dtype\": \"number\",\n        \"std\": 1.0013764631429267,\n        \"min\": -2.009756152409567,\n        \"max\": 3.120336691048234,\n        \"num_unique_values\": 177,\n        \"samples\": [\n          -0.159558733457573,\n          -0.8659977479665164,\n          -0.4959582641761174\n        ],\n        \"semantic_type\": \"\",\n        \"description\": \"\"\n      }\n    },\n    {\n      \"column\": \"target_temperature_max_next_day\",\n      \"properties\": {\n        \"dtype\": \"number\",\n        \"std\": 4.4343284812252515,\n        \"min\": 11.2,\n        \"max\": 39.1,\n        \"num_unique_values\": 151,\n        \"samples\": [\n          19.6,\n          23.4,\n          21.0\n        ],\n        \"semantic_type\": \"\",\n        \"description\": \"\"\n      }\n    },\n    {\n      \"column\": \"day_of_year\",\n      \"properties\": {\n        \"dtype\": \"int32\",\n        \"num_unique_values\": 364,\n        \"samples\": [\n          194,\n          34,\n          16\n        ],\n        \"semantic_type\": \"\",\n        \"description\": \"\"\n      }\n    },\n    {\n      \"column\": \"temp_max_3day_mean\",\n      \"properties\": {\n        \"dtype\": \"number\",\n        \"std\": 0.8895628513289503,\n        \"min\": -1.8374964288624118,\n        \"max\": 2.4059613577866052,\n        \"num_unique_values\": 321,\n        \"samples\": [\n          -0.24996168953095346,\n          -0.927109208677073,\n          -0.8593944567624613\n        ],\n        \"semantic_type\": \"\",\n        \"description\": \"\"\n      }\n    },\n    {\n      \"column\": \"precip_3day_sum\",\n      \"properties\": {\n        \"dtype\": \"number\",\n        \"std\": 1.9060997742311219,\n        \"min\": -1.2093767762033185,\n        \"max\": 13.206427746757987,\n        \"num_unique_values\": 226,\n        \"samples\": [\n          -1.04077087534997,\n          -1.1925161861179832,\n          -0.7710014339846114\n        ],\n        \"semantic_type\": \"\",\n        \"description\": \"\"\n      }\n    },\n    {\n      \"column\": \"weekday\",\n      \"properties\": {\n        \"dtype\": \"int32\",\n        \"num_unique_values\": 7,\n        \"samples\": [\n          6,\n          0,\n          4\n        ],\n        \"semantic_type\": \"\",\n        \"description\": \"\"\n      }\n    }\n  ]\n}"
            }
          },
          "metadata": {},
          "execution_count": 66
        }
      ]
    },
    {
      "cell_type": "code",
      "source": [],
      "metadata": {
        "id": "eGB_A6UsVu81"
      },
      "execution_count": null,
      "outputs": []
    },
    {
      "cell_type": "code",
      "source": [
        "# <Student to fill this section>\n",
        "data_cleaning_3_explanations = \"\"\"\n",
        "Feature Engineering with datetime and rolling features:\n",
        "\n",
        "- Converted 'time' to datetime to safely use .dt accessor.\n",
        "- day_of_year captures seasonal effects (summer/winter).\n",
        "- Rolling features (temp_max_3day_mean, precip_3day_sum) provide context from previous days.\n",
        "- weekday encodes weekly patterns that might affect weather trends.\n",
        "- These transformations improve predictive power while avoiding errors from non-datetime types.\n",
        "\n",
        "\"\"\""
      ],
      "metadata": {
        "id": "BHo46tqSFibl"
      },
      "execution_count": null,
      "outputs": []
    },
    {
      "cell_type": "code",
      "source": [
        "# Do not modify this code\n",
        "print_tile(size=\"h3\", key='data_cleaning_3_explanations', value=data_cleaning_3_explanations)"
      ],
      "metadata": {
        "id": "D1BIohZLFiiM",
        "colab": {
          "base_uri": "https://localhost:8080/",
          "height": 142
        },
        "outputId": "2b794aa1-b5ee-4569-b61a-596292b7279d"
      },
      "execution_count": null,
      "outputs": [
        {
          "output_type": "display_data",
          "data": {
            "text/plain": [
              "<IPython.core.display.HTML object>"
            ],
            "text/html": [
              "<p style=\"color:grey\">data_cleaning_3_explanations</p><h3 font-size: 3em>\n",
              "Feature Engineering with datetime and rolling features:\n",
              "\n",
              "- Converted 'time' to datetime to safely use .dt accessor.\n",
              "- day_of_year captures seasonal effects (summer/winter).\n",
              "- Rolling features (temp_max_3day_mean, precip_3day_sum) provide context from previous days.\n",
              "- weekday encodes weekly patterns that might affect weather trends.\n",
              "- These transformations improve predictive power while avoiding errors from non-datetime types.\n",
              "\n",
              "</h3>"
            ]
          },
          "metadata": {}
        }
      ]
    },
    {
      "cell_type": "markdown",
      "source": [
        "### E.n Fixing \"\\<describe_issue_here\\>\"\n",
        "\n",
        "> You can add more cells related to other issues in this section"
      ],
      "metadata": {
        "id": "w8pDuIcQVxgf"
      }
    },
    {
      "cell_type": "code",
      "source": [],
      "metadata": {
        "id": "L7MGT74hVxm2"
      },
      "execution_count": null,
      "outputs": []
    },
    {
      "cell_type": "code",
      "source": [],
      "metadata": {
        "id": "_x2xJAZ7Vxpb"
      },
      "execution_count": null,
      "outputs": []
    },
    {
      "cell_type": "markdown",
      "source": [
        "---\n",
        "## F. Feature Engineering"
      ],
      "metadata": {
        "id": "S80O7okb0RIx"
      }
    },
    {
      "cell_type": "markdown",
      "source": [
        "### F.1 New Feature \"\\<put_name_here\\>\"\n"
      ],
      "metadata": {
        "id": "Kst7h7wp1MFK"
      }
    },
    {
      "cell_type": "code",
      "source": [
        "df_scaled['temp_max_3day_mean'] = df_scaled['temperature_2m_max'].rolling(window=3, min_periods=1).mean()"
      ],
      "metadata": {
        "id": "f_wsc2n-1Mdm"
      },
      "execution_count": null,
      "outputs": []
    },
    {
      "cell_type": "code",
      "source": [
        "# <Student to fill this section>\n",
        "feature_engineering_1_explanations = \"\"\"\n",
        "- Captures short-term trends in maximum temperature over the past 3 days.\n",
        "- Helps the model understand momentum or persistence in weather conditions.\n",
        "- Reduces noise from daily fluctuations and allows better prediction of next-day temperature.\n",
        "- Especially useful in regression models predicting exact temperature values.\n",
        "\"\"\""
      ],
      "metadata": {
        "id": "hezUX-UgFpQf"
      },
      "execution_count": null,
      "outputs": []
    },
    {
      "cell_type": "code",
      "source": [
        "# Do not modify this code\n",
        "print_tile(size=\"h3\", key='feature_engineering_1_explanations', value=feature_engineering_1_explanations)"
      ],
      "metadata": {
        "id": "AKIFmqwVFpTA",
        "colab": {
          "base_uri": "https://localhost:8080/",
          "height": 122
        },
        "outputId": "5717c7d4-c145-4d91-a2af-f23be8cb8388"
      },
      "execution_count": null,
      "outputs": [
        {
          "output_type": "display_data",
          "data": {
            "text/plain": [
              "<IPython.core.display.HTML object>"
            ],
            "text/html": [
              "<p style=\"color:grey\">feature_engineering_1_explanations</p><h3 font-size: 3em>\n",
              "- Captures short-term trends in maximum temperature over the past 3 days.\n",
              "- Helps the model understand momentum or persistence in weather conditions.\n",
              "- Reduces noise from daily fluctuations and allows better prediction of next-day temperature.\n",
              "- Especially useful in regression models predicting exact temperature values.\n",
              "</h3>"
            ]
          },
          "metadata": {}
        }
      ]
    },
    {
      "cell_type": "markdown",
      "source": [
        "### F.2 New Feature \"\\<put_name_here\\>\"\n",
        "\n",
        "\n"
      ],
      "metadata": {
        "id": "xY_hWhC71XAl"
      }
    },
    {
      "cell_type": "code",
      "source": [
        "df_scaled['precip_3day_sum'] = df_scaled['precipitation_sum'].rolling(window=3, min_periods=1).sum()\n"
      ],
      "metadata": {
        "id": "F3DhQoJZ1Xvw"
      },
      "execution_count": null,
      "outputs": []
    },
    {
      "cell_type": "code",
      "source": [
        "# <Student to fill this section>\n",
        "feature_engineering_2_explanations = \"\"\"\n",
        "- Summarizes the accumulated precipitation over the last 3 days.\n",
        "- Provides context for rainfall patterns and can improve rain/no-rain classification.\n",
        "- Captures temporal dependencies: a wet past increases likelihood of continued rain or affects atmospheric conditions.\n",
        "- Important for both binary rain prediction and short-term precipitation regression tasks.\n",
        "\"\"\""
      ],
      "metadata": {
        "id": "ac-MNGsmFtaH"
      },
      "execution_count": null,
      "outputs": []
    },
    {
      "cell_type": "code",
      "source": [
        "# Do not modify this code\n",
        "print_tile(size=\"h3\", key='feature_engineering_2_explanations', value=feature_engineering_2_explanations)"
      ],
      "metadata": {
        "id": "xapPh0YfFtca",
        "colab": {
          "base_uri": "https://localhost:8080/",
          "height": 122
        },
        "outputId": "098cadac-b877-4e33-c649-aa0aef580047"
      },
      "execution_count": null,
      "outputs": [
        {
          "output_type": "display_data",
          "data": {
            "text/plain": [
              "<IPython.core.display.HTML object>"
            ],
            "text/html": [
              "<p style=\"color:grey\">feature_engineering_2_explanations</p><h3 font-size: 3em>\n",
              "- Summarizes the accumulated precipitation over the last 3 days.\n",
              "- Provides context for rainfall patterns and can improve rain/no-rain classification.\n",
              "- Captures temporal dependencies: a wet past increases likelihood of continued rain or affects atmospheric conditions.\n",
              "- Important for both binary rain prediction and short-term precipitation regression tasks.\n",
              "</h3>"
            ]
          },
          "metadata": {}
        }
      ]
    },
    {
      "cell_type": "markdown",
      "source": [
        "### F.3 New Feature \"\\<put_name_here\\>\"\n",
        "\n",
        "> Provide some explanations on why you believe it is important to create this feature and its impacts\n",
        "\n"
      ],
      "metadata": {
        "id": "w0Fhn4271gVu"
      }
    },
    {
      "cell_type": "code",
      "source": [
        "df_scaled['day_of_year'] = df_scaled['time'].dt.dayofyear"
      ],
      "metadata": {
        "id": "N6wBdmYD1g6c"
      },
      "execution_count": null,
      "outputs": []
    },
    {
      "cell_type": "code",
      "source": [
        "# <Student to fill this section>\n",
        "feature_engineering_n_explanations = \"\"\"\n",
        "- Encodes seasonal variation (summer/winter patterns) in a numeric format.\n",
        "- Weather depends heavily on seasonality; temperatures and rainfall patterns follow a yearly cycle.\n",
        "- Allows models to capture periodic trends without requiring complex transformations.\n",
        "- Particularly useful for temperature regression and rain classification tasks, as rain likelihood and temp extremes vary by season.\n",
        "\n",
        "\"\"\""
      ],
      "metadata": {
        "id": "Z3gtyjmKFzCK"
      },
      "execution_count": null,
      "outputs": []
    },
    {
      "cell_type": "code",
      "source": [
        "# Do not modify this code\n",
        "print_tile(size=\"h3\", key='feature_engineering_n_explanations', value=feature_engineering_n_explanations)"
      ],
      "metadata": {
        "id": "7nMfjzkbFzFj",
        "colab": {
          "base_uri": "https://localhost:8080/",
          "height": 122
        },
        "outputId": "05be71c6-2e20-41c4-c382-0976e4f50f9d"
      },
      "execution_count": null,
      "outputs": [
        {
          "output_type": "display_data",
          "data": {
            "text/plain": [
              "<IPython.core.display.HTML object>"
            ],
            "text/html": [
              "<p style=\"color:grey\">feature_engineering_n_explanations</p><h3 font-size: 3em>\n",
              "- Encodes seasonal variation (summer/winter patterns) in a numeric format.\n",
              "- Weather depends heavily on seasonality; temperatures and rainfall patterns follow a yearly cycle.\n",
              "- Allows models to capture periodic trends without requiring complex transformations.\n",
              "- Particularly useful for temperature regression and rain classification tasks, as rain likelihood and temp extremes vary by season.\n",
              "\n",
              "</h3>"
            ]
          },
          "metadata": {}
        }
      ]
    },
    {
      "cell_type": "markdown",
      "source": [
        "### F.n Fixing \"\\<describe_issue_here\\>\"\n",
        "\n",
        "> You can add more cells related to new features in this section"
      ],
      "metadata": {
        "id": "_NHBVVRxV-CC"
      }
    },
    {
      "cell_type": "code",
      "source": [],
      "metadata": {
        "id": "8x4jHVxnV-Gm"
      },
      "execution_count": null,
      "outputs": []
    },
    {
      "cell_type": "code",
      "source": [],
      "metadata": {
        "id": "eAl_-gx3V-JT"
      },
      "execution_count": null,
      "outputs": []
    },
    {
      "cell_type": "markdown",
      "metadata": {
        "id": "N8MNBrC4Zgz6"
      },
      "source": [
        "---\n",
        "## G. Data Preparation for Modeling"
      ]
    },
    {
      "cell_type": "markdown",
      "source": [
        "### G.1 Split Datasets"
      ],
      "metadata": {
        "id": "HbpTjW2GGkd8"
      }
    },
    {
      "cell_type": "code",
      "source": [
        "# Features and target\n",
        "features = [\n",
        "    'temperature_2m_max',\n",
        "    'temperature_2m_min',\n",
        "    'precipitation_sum',\n",
        "    'windspeed_10m_max',\n",
        "    'temp_max_3day_mean',\n",
        "    'precip_3day_sum',\n",
        "    'day_of_year'\n",
        "]\n",
        "\n",
        "X = df_scaled[features]\n",
        "y = df_scaled[target_name]\n",
        "\n",
        "# Use 80% of data for training, 20% for validation (chronological split)\n",
        "split_idx = int(len(df_scaled) * 0.8)\n",
        "\n",
        "X_train, y_train = X.iloc[:split_idx], y.iloc[:split_idx]\n",
        "X_val, y_val     = X.iloc[split_idx:], y.iloc[split_idx:]\n",
        "\n",
        "print(\"Train size:\", X_train.shape)\n",
        "print(\"Validation size:\", X_val.shape)"
      ],
      "metadata": {
        "id": "kcJ8_kh6Gnjl",
        "colab": {
          "base_uri": "https://localhost:8080/"
        },
        "outputId": "21201673-6d3a-477f-dfaa-0d57ae9667a2"
      },
      "execution_count": null,
      "outputs": [
        {
          "output_type": "stream",
          "name": "stdout",
          "text": [
            "Train size: (291, 7)\n",
            "Validation size: (73, 7)\n"
          ]
        }
      ]
    },
    {
      "cell_type": "code",
      "source": [
        "# <Student to fill this section>\n",
        "data_splitting_explanations = \"\"\"\n",
        "Since we only have data from 2023, chronological splitting within the available period is necessary.\n",
        "- First 80% of 2023 used for training\n",
        "- Last 20% of 2023 used for validation\n",
        "This preserves temporal order and prevents data leakage while simulating future predictions.\n",
        "\"\"\""
      ],
      "metadata": {
        "id": "dkvHE5g4F3IZ"
      },
      "execution_count": null,
      "outputs": []
    },
    {
      "cell_type": "code",
      "source": [
        "# Do not modify this code\n",
        "print_tile(size=\"h3\", key='data_splitting_explanations', value=data_splitting_explanations)"
      ],
      "metadata": {
        "id": "vx4_g0pLF3Lg",
        "colab": {
          "base_uri": "https://localhost:8080/",
          "height": 101
        },
        "outputId": "7d904b83-db10-4fdc-8042-b72a068f5736"
      },
      "execution_count": null,
      "outputs": [
        {
          "output_type": "display_data",
          "data": {
            "text/plain": [
              "<IPython.core.display.HTML object>"
            ],
            "text/html": [
              "<p style=\"color:grey\">data_splitting_explanations</p><h3 font-size: 3em>\n",
              "Since we only have data from 2023, chronological splitting within the available period is necessary.\n",
              "- First 80% of 2023 used for training\n",
              "- Last 20% of 2023 used for validation\n",
              "This preserves temporal order and prevents data leakage while simulating future predictions.\n",
              "</h3>"
            ]
          },
          "metadata": {}
        }
      ]
    },
    {
      "cell_type": "markdown",
      "source": [
        "### G.2 Data Transformation \"\\<put_name_here\\>\""
      ],
      "metadata": {
        "id": "JHJ25iRRG1Gb"
      }
    },
    {
      "cell_type": "code",
      "source": [
        "from sklearn.preprocessing import StandardScaler\n",
        "from pathlib import Path\n",
        "import joblib\n",
        "\n",
        "# Create artifacts folder if it doesn't exist\n",
        "ARTIFACTS_DIR = Path(\"artifacts\")\n",
        "ARTIFACTS_DIR.mkdir(parents=True, exist_ok=True)\n",
        "\n",
        "# Fit scaler on training set and transform\n",
        "scaler = StandardScaler()\n",
        "X_train_scaled = scaler.fit_transform(X_train)\n",
        "X_val_scaled   = scaler.transform(X_val)\n",
        "\n",
        "# Save scaler for production use\n",
        "scaler_path = ARTIFACTS_DIR / \"scaler.pkl\"\n",
        "joblib.dump(scaler, scaler_path)\n",
        "print(f\"Scaler saved to {scaler_path}\")"
      ],
      "metadata": {
        "colab": {
          "base_uri": "https://localhost:8080/"
        },
        "id": "4Kbi0QILWOU0",
        "outputId": "993d0814-cb00-4a1f-d1ed-73e6ca545dd1"
      },
      "execution_count": null,
      "outputs": [
        {
          "output_type": "stream",
          "name": "stdout",
          "text": [
            "Scaler saved to artifacts/scaler.pkl\n"
          ]
        }
      ]
    },
    {
      "cell_type": "code",
      "source": [
        "# <Student to fill this section>\n",
        "data_transformation_1_explanations = \"\"\"\n",
        "Scaling numeric features ensures consistent feature magnitudes across features.\n",
        "- Prevents high-magnitude features from dominating the model.\n",
        "- Important for models sensitive to feature scale (e.g., linear models, distance-based models).\n",
        "- Using only the training set to fit the scaler avoids data leakage into validation.\n",
        "\"\"\""
      ],
      "metadata": {
        "id": "XbWWDBacGn9n"
      },
      "execution_count": null,
      "outputs": []
    },
    {
      "cell_type": "code",
      "source": [
        "# Do not modify this code\n",
        "print_tile(size=\"h3\", key='data_transformation_1_explanations', value=data_transformation_1_explanations)"
      ],
      "metadata": {
        "id": "vepkbzldGn_8",
        "colab": {
          "base_uri": "https://localhost:8080/",
          "height": 122
        },
        "outputId": "3ebcead8-7b13-4f99-d32e-46d9e7ea4465"
      },
      "execution_count": null,
      "outputs": [
        {
          "output_type": "display_data",
          "data": {
            "text/plain": [
              "<IPython.core.display.HTML object>"
            ],
            "text/html": [
              "<p style=\"color:grey\">data_transformation_1_explanations</p><h3 font-size: 3em>\n",
              "Scaling numeric features ensures consistent feature magnitudes across features.\n",
              "- Prevents high-magnitude features from dominating the model.\n",
              "- Important for models sensitive to feature scale (e.g., linear models, distance-based models).\n",
              "- Using only the training set to fit the scaler avoids data leakage into validation.\n",
              "</h3>"
            ]
          },
          "metadata": {}
        }
      ]
    },
    {
      "cell_type": "markdown",
      "source": [
        "### G.3 Data Transformation \"\\<One-hot Encoding of Weekday\\>\""
      ],
      "metadata": {
        "id": "3YG8_V1DG8YP"
      }
    },
    {
      "cell_type": "code",
      "source": [
        "# Step 1: Create weekday column from 'time' in the original dataframe\n",
        "X_train['weekday'] = df_scaled['time'].iloc[:len(X_train)].dt.weekday  # 0=Monday, 6=Sunday\n",
        "X_val['weekday']   = df_scaled['time'].iloc[len(X_train):].dt.weekday\n",
        "\n",
        "# Step 2: One-hot encode weekday\n",
        "X_train = pd.get_dummies(X_train, columns=['weekday'], drop_first=True)\n",
        "X_val   = pd.get_dummies(X_val, columns=['weekday'], drop_first=True)\n",
        "\n",
        "# Align columns in case some weekday categories are missing in validation\n",
        "X_val = X_val.reindex(columns=X_train.columns, fill_value=0)\n"
      ],
      "metadata": {
        "id": "jHtYOtv7HJbw"
      },
      "execution_count": null,
      "outputs": []
    },
    {
      "cell_type": "code",
      "source": [
        "# <Student to fill this section>\n",
        "data_transformation_2_explanations = \"\"\"\n",
        "- Created a 'weekday' feature from the date to capture weekly patterns in weather.\n",
        "- One-hot encoding converts this categorical feature into numeric columns suitable for ML models.\n",
        "- Align validation set columns with training set to prevent shape mismatch during prediction.\n",
        "\"\"\""
      ],
      "metadata": {
        "id": "TQR-kDICGoqa"
      },
      "execution_count": null,
      "outputs": []
    },
    {
      "cell_type": "code",
      "source": [
        "# Do not modify this code\n",
        "print_tile(size=\"h3\", key='data_transformation_2_explanations', value=data_transformation_2_explanations)"
      ],
      "metadata": {
        "id": "bNWRpNiQGotZ",
        "colab": {
          "base_uri": "https://localhost:8080/",
          "height": 101
        },
        "outputId": "772cb095-532f-4ed6-b43b-fdc423058d4d"
      },
      "execution_count": null,
      "outputs": [
        {
          "output_type": "display_data",
          "data": {
            "text/plain": [
              "<IPython.core.display.HTML object>"
            ],
            "text/html": [
              "<p style=\"color:grey\">data_transformation_2_explanations</p><h3 font-size: 3em>\n",
              "- Created a 'weekday' feature from the date to capture weekly patterns in weather.\n",
              "- One-hot encoding converts this categorical feature into numeric columns suitable for ML models.\n",
              "- Align validation set columns with training set to prevent shape mismatch during prediction.\n",
              "</h3>"
            ]
          },
          "metadata": {}
        }
      ]
    },
    {
      "cell_type": "markdown",
      "source": [
        "### G.4 Data Transformation \"\\<put_name_here\\>\""
      ],
      "metadata": {
        "id": "DfSLKEJTG7QB"
      }
    },
    {
      "cell_type": "code",
      "source": [
        "lag_features = ['temperature_2m_max', 'precipitation_sum']\n",
        "\n",
        "# Create lag features for training set\n",
        "for feature in lag_features:\n",
        "    X_train[f'{feature}_lag1'] = X_train[feature].shift(1)\n",
        "\n",
        "# Backfill the first row (since it has NaN after shift)\n",
        "X_train.fillna(method='bfill', inplace=True)\n",
        "\n",
        "# Create lag features for validation set using the last row of training as previous day\n",
        "for feature in lag_features:\n",
        "    X_val[f'{feature}_lag1'] = pd.concat([\n",
        "        X_train[feature].iloc[[-1]],  # last day of training\n",
        "        X_val[feature]\n",
        "    ]).shift(1).iloc[1:].reset_index(drop=True)\n",
        "\n",
        "# Reset index to align validation features\n",
        "X_val.reset_index(drop=True, inplace=True)"
      ],
      "metadata": {
        "id": "712T36KKG7Yp"
      },
      "execution_count": null,
      "outputs": []
    },
    {
      "cell_type": "code",
      "source": [
        "# <Student to fill this section>\n",
        "data_transformation_3_explanations = \"\"\"\n",
        "- Lag features incorporate previous day's values to capture temporal dependencies.\n",
        "- For example, yesterday's temperature and precipitation can influence today's weather patterns.\n",
        "- Backfilling prevents NaN values in the first row of training set.\n",
        "- For validation, we use the last day of training as \"previous day\" to avoid losing data and maintain continuity.\n",
        "\"\"\""
      ],
      "metadata": {
        "id": "fQkBCxekGpUv"
      },
      "execution_count": null,
      "outputs": []
    },
    {
      "cell_type": "code",
      "source": [
        "# Do not modify this code\n",
        "print_tile(size=\"h3\", key='data_transformation_3_explanations', value=data_transformation_3_explanations)"
      ],
      "metadata": {
        "id": "Xlo8HKd9GpXM",
        "colab": {
          "base_uri": "https://localhost:8080/",
          "height": 122
        },
        "outputId": "2faa0b64-c423-4a32-9c15-7a84107277e8"
      },
      "execution_count": null,
      "outputs": [
        {
          "output_type": "display_data",
          "data": {
            "text/plain": [
              "<IPython.core.display.HTML object>"
            ],
            "text/html": [
              "<p style=\"color:grey\">data_transformation_3_explanations</p><h3 font-size: 3em>\n",
              "- Lag features incorporate previous day's values to capture temporal dependencies.\n",
              "- For example, yesterday's temperature and precipitation can influence today's weather patterns.\n",
              "- Backfilling prevents NaN values in the first row of training set.\n",
              "- For validation, we use the last day of training as \"previous day\" to avoid losing data and maintain continuity.\n",
              "</h3>"
            ]
          },
          "metadata": {}
        }
      ]
    },
    {
      "cell_type": "markdown",
      "source": [],
      "metadata": {
        "id": "K0688URxWIQo"
      }
    },
    {
      "cell_type": "markdown",
      "source": [
        "---\n",
        "## H. Save Datasets\n",
        "\n",
        "> Do not change this code"
      ],
      "metadata": {
        "id": "qIj277YWHdFk"
      }
    },
    {
      "cell_type": "code",
      "source": [
        "# Do not modify this code\n",
        "# Save training set\n",
        "try:\n",
        "  X_train.to_csv(at.folder_path / 'X_train.csv', index=False)\n",
        "  y_train.to_csv(at.folder_path / 'y_train.csv', index=False)\n",
        "\n",
        "  X_val.to_csv(at.folder_path / 'X_val.csv', index=False)\n",
        "  y_val.to_csv(at.folder_path / 'y_val.csv', index=False)\n",
        "\n",
        "  X_test.to_csv(at.folder_path / 'X_test.csv', index=False)\n",
        "  y_test.to_csv(at.folder_path / 'y_test.csv', index=False)\n",
        "except Exception as e:\n",
        "  print(e)"
      ],
      "metadata": {
        "id": "uMNql0SzHhP2",
        "colab": {
          "base_uri": "https://localhost:8080/"
        },
        "outputId": "7a27cd88-25d5-4a91-98a3-5856ae43c830"
      },
      "execution_count": null,
      "outputs": [
        {
          "output_type": "stream",
          "name": "stdout",
          "text": [
            "name 'at' is not defined\n"
          ]
        }
      ]
    },
    {
      "cell_type": "markdown",
      "source": [
        "---\n",
        "## I. Selection of Performance Metrics\n",
        "\n",
        "> Provide some explanations on why you believe the performance metrics you chose is appropriate\n"
      ],
      "metadata": {
        "id": "RtLjr7niHpNZ"
      }
    },
    {
      "cell_type": "code",
      "source": [
        "# <Student to fill this section>"
      ],
      "metadata": {
        "id": "KV_pxLAiHxKW"
      },
      "execution_count": null,
      "outputs": []
    },
    {
      "cell_type": "code",
      "source": [
        "# <Student to fill this section>\n",
        "performance_metrics_explanations = \"\"\"\n",
        "For rain/no-rain classification, false negatives (predicting no rain when it will rain) may be more costly than false positives.\n",
        "- Accuracy measures overall correctness.\n",
        "- Precision indicates reliability of predicted rain events.\n",
        "- Recall captures the model's ability to detect actual rain (important for planning).\n",
        "- F1-score balances precision and recall, providing a single robust metric.\n",
        "We will use accuracy and F1-score as the primary evaluation metrics.\n",
        "\"\"\""
      ],
      "metadata": {
        "id": "kC949nluHR5s"
      },
      "execution_count": null,
      "outputs": []
    },
    {
      "cell_type": "code",
      "source": [
        "# Do not modify this code\n",
        "print_tile(size=\"h3\", key='performance_metrics_explanations', value=performance_metrics_explanations)"
      ],
      "metadata": {
        "id": "wABRzU2sHR8j",
        "colab": {
          "base_uri": "https://localhost:8080/",
          "height": 142
        },
        "outputId": "1a241587-f4f0-4084-db39-1958b8810dd7"
      },
      "execution_count": null,
      "outputs": [
        {
          "output_type": "display_data",
          "data": {
            "text/plain": [
              "<IPython.core.display.HTML object>"
            ],
            "text/html": [
              "<p style=\"color:grey\">performance_metrics_explanations</p><h3 font-size: 3em>\n",
              "For rain/no-rain classification, false negatives (predicting no rain when it will rain) may be more costly than false positives.\n",
              "- Accuracy measures overall correctness.\n",
              "- Precision indicates reliability of predicted rain events.\n",
              "- Recall captures the model's ability to detect actual rain (important for planning).\n",
              "- F1-score balances precision and recall, providing a single robust metric.\n",
              "We will use accuracy and F1-score as the primary evaluation metrics.\n",
              "</h3>"
            ]
          },
          "metadata": {}
        }
      ]
    },
    {
      "cell_type": "markdown",
      "source": [
        "## J. Train Machine Learning Model"
      ],
      "metadata": {
        "id": "ZpxjwSDYIJy6"
      }
    },
    {
      "cell_type": "markdown",
      "source": [
        "### J.1 Import Algorithm\n",
        "\n",
        "> Provide some explanations on why you believe this algorithm is a good fit\n"
      ],
      "metadata": {
        "id": "_XBy7-9PIVcU"
      }
    },
    {
      "cell_type": "code",
      "source": [
        "from sklearn.ensemble import RandomForestClassifier\n"
      ],
      "metadata": {
        "id": "diUB08xMIOuS"
      },
      "execution_count": null,
      "outputs": []
    },
    {
      "cell_type": "code",
      "source": [
        "# <Student to fill this section>\n",
        "algorithm_selection_explanations = \"\"\"\n",
        "Random Forest is suitable because:\n",
        "- Handles both numerical and categorical features well.\n",
        "- Robust to overfitting due to ensemble averaging.\n",
        "- Can capture nonlinear relationships in weather data.\n",
        "- Provides feature importance, which helps explain model predictions to stakeholders.\n",
        "\"\"\""
      ],
      "metadata": {
        "id": "GIWOpv6CGUTE"
      },
      "execution_count": null,
      "outputs": []
    },
    {
      "cell_type": "code",
      "source": [
        "# Do not modify this code\n",
        "print_tile(size=\"h3\", key='algorithm_selection_explanations', value=algorithm_selection_explanations)"
      ],
      "metadata": {
        "id": "N4yogQ9aGUVe",
        "colab": {
          "base_uri": "https://localhost:8080/",
          "height": 101
        },
        "outputId": "9c5f3477-33d1-445b-8fd5-a1f81eaa37ad"
      },
      "execution_count": null,
      "outputs": [
        {
          "output_type": "display_data",
          "data": {
            "text/plain": [
              "<IPython.core.display.HTML object>"
            ],
            "text/html": [
              "<p style=\"color:grey\">algorithm_selection_explanations</p><h3 font-size: 3em>\n",
              "Random Forest is suitable because:\n",
              "- Handles both numerical and categorical features well.\n",
              "- Robust to overfitting due to ensemble averaging.\n",
              "- Can capture nonlinear relationships in weather data.\n",
              "- Provides feature importance, which helps explain model predictions to stakeholders.\n",
              "</h3>"
            ]
          },
          "metadata": {}
        }
      ]
    },
    {
      "cell_type": "markdown",
      "source": [
        "### J.2 Set Hyperparameters\n",
        "\n",
        "> Provide some explanations on why you believe this algorithm is a good fit\n"
      ],
      "metadata": {
        "id": "0ks_MmM2mCfm"
      }
    },
    {
      "cell_type": "code",
      "source": [
        "rf_params = {\n",
        "    'n_estimators': 200,       # number of trees\n",
        "    'max_depth': 10,           # limit depth to reduce overfitting\n",
        "    'min_samples_split': 5,    # require minimum samples to split a node\n",
        "    'random_state': 42\n",
        "}"
      ],
      "metadata": {
        "id": "NUswpGVLmDXl"
      },
      "execution_count": null,
      "outputs": []
    },
    {
      "cell_type": "code",
      "source": [
        "# <Student to fill this section>\n",
        "hyperparameters_selection_explanations = \"\"\"\n",
        "- n_estimators=200 ensures sufficient trees for stability.\n",
        "- max_depth=10 prevents overfitting to small variations in weather data.\n",
        "- min_samples_split=5 avoids overly complex trees from noise.\n",
        "- random_state=42 ensures reproducibility.\n",
        "These hyperparameters provide a balance between bias and variance for our dataset.\n",
        "\"\"\""
      ],
      "metadata": {
        "id": "crG_Bm72HfL-"
      },
      "execution_count": null,
      "outputs": []
    },
    {
      "cell_type": "code",
      "source": [
        "# Do not modify this code\n",
        "print_tile(size=\"h3\", key='hyperparameters_selection_explanations', value=hyperparameters_selection_explanations)"
      ],
      "metadata": {
        "id": "k0uqlRCVHfQI",
        "colab": {
          "base_uri": "https://localhost:8080/",
          "height": 122
        },
        "outputId": "5742788d-8bd1-44a2-d21b-0d854342e9a6"
      },
      "execution_count": null,
      "outputs": [
        {
          "output_type": "display_data",
          "data": {
            "text/plain": [
              "<IPython.core.display.HTML object>"
            ],
            "text/html": [
              "<p style=\"color:grey\">hyperparameters_selection_explanations</p><h3 font-size: 3em>\n",
              "- n_estimators=200 ensures sufficient trees for stability.\n",
              "- max_depth=10 prevents overfitting to small variations in weather data.\n",
              "- min_samples_split=5 avoids overly complex trees from noise.\n",
              "- random_state=42 ensures reproducibility.\n",
              "These hyperparameters provide a balance between bias and variance for our dataset.\n",
              "</h3>"
            ]
          },
          "metadata": {}
        }
      ]
    },
    {
      "cell_type": "markdown",
      "source": [
        "### J.3 Fit Model"
      ],
      "metadata": {
        "id": "VDjdjQjFmkLe"
      }
    },
    {
      "cell_type": "code",
      "source": [
        "# Create binary target: 1 if precipitation > 0 after 7 days, else 0\n",
        "target_name = 'rain_7d'\n",
        "df_scaled[target_name] = (df_scaled['precipitation_sum'].shift(-7) > 0).astype(int)\n",
        "\n",
        "# Split target for training/validation (same split as features)\n",
        "y_train = df_scaled[target_name].iloc[:len(X_train)]\n",
        "y_val   = df_scaled[target_name].iloc[len(X_train):]\n",
        "\n",
        "\n",
        "from sklearn.ensemble import RandomForestClassifier\n",
        "import joblib\n",
        "\n",
        "rf_params = {\n",
        "    'n_estimators': 200,\n",
        "    'max_depth': 10,\n",
        "    'min_samples_split': 5,\n",
        "    'random_state': 42\n",
        "}\n",
        "\n",
        "rf_model = RandomForestClassifier(**rf_params)\n",
        "rf_model.fit(X_train_scaled, y_train)\n",
        "\n",
        "# Save model for production\n",
        "joblib.dump(rf_model, 'artifacts/rf_rain_model.pkl')\n",
        "print(\"Random Forest classifier trained and saved.\")"
      ],
      "metadata": {
        "id": "0Ub3Nrdgmm2N",
        "colab": {
          "base_uri": "https://localhost:8080/"
        },
        "outputId": "2d559d7c-5e51-48de-8955-6dbb02c972e7"
      },
      "execution_count": null,
      "outputs": [
        {
          "output_type": "stream",
          "name": "stdout",
          "text": [
            "Random Forest classifier trained and saved.\n"
          ]
        }
      ]
    },
    {
      "cell_type": "markdown",
      "source": [
        "### J.4 Model Technical Performance\n",
        "\n",
        "> Provide some explanations on model performance\n"
      ],
      "metadata": {
        "id": "q43YtqpdeniY"
      }
    },
    {
      "cell_type": "code",
      "execution_count": null,
      "metadata": {
        "id": "x1Q3oxoNhez5",
        "colab": {
          "base_uri": "https://localhost:8080/"
        },
        "outputId": "e8266fb5-fd77-41b0-8ffb-aca193fff3d7"
      },
      "outputs": [
        {
          "output_type": "stream",
          "name": "stdout",
          "text": [
            "Validation Accuracy: 0.6438356164383562\n",
            "Validation F1-score: 0.0\n",
            "              precision    recall  f1-score   support\n",
            "\n",
            "           0       0.69      0.90      0.78        52\n",
            "           1       0.00      0.00      0.00        21\n",
            "\n",
            "    accuracy                           0.64        73\n",
            "   macro avg       0.35      0.45      0.39        73\n",
            "weighted avg       0.49      0.64      0.56        73\n",
            "\n"
          ]
        }
      ],
      "source": [
        "from sklearn.metrics import accuracy_score, f1_score, classification_report\n",
        "# Predictions on validation set\n",
        "y_pred = rf_model.predict(X_val_scaled)\n",
        "\n",
        "accuracy = accuracy_score(y_val, y_pred)\n",
        "f1 = f1_score(y_val, y_pred)\n",
        "\n",
        "print(\"Validation Accuracy:\", accuracy)\n",
        "print(\"Validation F1-score:\", f1)\n",
        "print(classification_report(y_val, y_pred))"
      ]
    },
    {
      "cell_type": "code",
      "source": [
        "# <Student to fill this section>\n",
        "model_performance_explanations = \"\"\"\n",
        "- Accuracy shows overall correct predictions.\n",
        "- F1-score balances precision and recall, focusing on correctly detecting rain events.\n",
        "- Random Forest can also provide feature importance to understand which weather features drive predictions.\n",
        "\n",
        "\"\"\""
      ],
      "metadata": {
        "id": "_YbQldshHk_3"
      },
      "execution_count": null,
      "outputs": []
    },
    {
      "cell_type": "code",
      "source": [
        "# Do not modify this code\n",
        "print_tile(size=\"h3\", key='model_performance_explanations', value=model_performance_explanations)"
      ],
      "metadata": {
        "id": "-MkLnLzVHlDO",
        "colab": {
          "base_uri": "https://localhost:8080/",
          "height": 101
        },
        "outputId": "02e433d0-842a-4701-c0cb-ba6884a6a2aa"
      },
      "execution_count": null,
      "outputs": [
        {
          "output_type": "display_data",
          "data": {
            "text/plain": [
              "<IPython.core.display.HTML object>"
            ],
            "text/html": [
              "<p style=\"color:grey\">model_performance_explanations</p><h3 font-size: 3em>\n",
              "- Accuracy shows overall correct predictions.\n",
              "- F1-score balances precision and recall, focusing on correctly detecting rain events.\n",
              "- Random Forest can also provide feature importance to understand which weather features drive predictions.\n",
              "\n",
              "</h3>"
            ]
          },
          "metadata": {}
        }
      ]
    },
    {
      "cell_type": "code",
      "source": [],
      "metadata": {
        "id": "quUkS-bhejLn"
      },
      "execution_count": null,
      "outputs": []
    },
    {
      "cell_type": "markdown",
      "source": [
        "### J.5 Business Impact from Current Model Performance\n",
        "\n",
        "> Provide some analysis on the model impacts from the business point of view\n"
      ],
      "metadata": {
        "id": "W1HgZMPcmtu7"
      }
    },
    {
      "cell_type": "code",
      "source": [
        "# <Student to fill this section>"
      ],
      "metadata": {
        "id": "XGq2RWyqmuKM"
      },
      "execution_count": null,
      "outputs": []
    },
    {
      "cell_type": "code",
      "source": [
        "# <Student to fill this section>\n",
        "business_impacts_explanations = \"\"\"\n",
        "Accurate rain prediction (+7 days) is critical for clients relying on weather forecasts:\n",
        "- False negatives (predicting no rain when it will rain) can disrupt logistics, outdoor events, or agriculture.\n",
        "- False positives (predicting rain when it does not occur) are less severe but may cause minor inconvenience.\n",
        "- By tuning hyperparameters and optimizing F1-score, the model prioritizes detecting actual rain events, reducing business risk.\n",
        "- Reliable forecasts improve client trust and reduce operational losses due to unexpected weather events.\n",
        "\"\"\""
      ],
      "metadata": {
        "id": "7bcCHiP-Hozj"
      },
      "execution_count": null,
      "outputs": []
    },
    {
      "cell_type": "code",
      "source": [
        "# Do not modify this code\n",
        "print_tile(size=\"h3\", key='business_impacts_explanations', value=business_impacts_explanations)"
      ],
      "metadata": {
        "id": "RQ3lJGAnHo3O",
        "colab": {
          "base_uri": "https://localhost:8080/",
          "height": 142
        },
        "outputId": "28640dda-d73b-4e4d-a5b7-92210ad51bb5"
      },
      "execution_count": null,
      "outputs": [
        {
          "output_type": "display_data",
          "data": {
            "text/plain": [
              "<IPython.core.display.HTML object>"
            ],
            "text/html": [
              "<p style=\"color:grey\">business_impacts_explanations</p><h3 font-size: 3em>\n",
              "Accurate rain prediction (+7 days) is critical for clients relying on weather forecasts:\n",
              "- False negatives (predicting no rain when it will rain) can disrupt logistics, outdoor events, or agriculture.\n",
              "- False positives (predicting rain when it does not occur) are less severe but may cause minor inconvenience.\n",
              "- By tuning hyperparameters and optimizing F1-score, the model prioritizes detecting actual rain events, reducing business risk.\n",
              "- Reliable forecasts improve client trust and reduce operational losses due to unexpected weather events.\n",
              "</h3>"
            ]
          },
          "metadata": {}
        }
      ]
    },
    {
      "cell_type": "markdown",
      "source": [
        "## H. Project Outcomes"
      ],
      "metadata": {
        "id": "mp1Ie9o8nDl1"
      }
    },
    {
      "cell_type": "code",
      "source": [
        "# <Student to fill this section>\n",
        "experiment_outcome = \"Hypothesis Partially Confirmed\" # Either 'Hypothesis Confirmed', 'Hypothesis Partially Confirmed' or 'Hypothesis Rejected'"
      ],
      "metadata": {
        "id": "AvFNheh1HtPb"
      },
      "execution_count": null,
      "outputs": []
    },
    {
      "cell_type": "code",
      "source": [
        "# Do not modify this code\n",
        "print_tile(size=\"h2\", key='experiment_outcomes_explanations', value=experiment_outcome)"
      ],
      "metadata": {
        "id": "23bFWNIVHtTU",
        "colab": {
          "base_uri": "https://localhost:8080/",
          "height": 88
        },
        "outputId": "6aacdea1-a028-428d-c584-16ad7b046771"
      },
      "execution_count": null,
      "outputs": [
        {
          "output_type": "display_data",
          "data": {
            "text/plain": [
              "<IPython.core.display.HTML object>"
            ],
            "text/html": [
              "<p style=\"color:grey\">experiment_outcomes_explanations</p><h2 font-size: 3em>Hypothesis Partially Confirmed</h2>"
            ]
          },
          "metadata": {}
        }
      ]
    },
    {
      "cell_type": "code",
      "source": [
        "# <Student to fill this section>\n",
        "experiment_results_explanations = \"\"\"\n",
        "The Random Forest classifier predicts overall rain/no-rain with 64% accuracy but fails to detect rain events (F1-score = 0 for rain).\n",
        "- The model strongly favors the majority class (no rain) due to class imbalance.\n",
        "- Insights gained:\n",
        "    - Daily precipitation in Sydney is sparse; rain events are less frequent than no-rain days.\n",
        "    - Current features and lag variables alone are insufficient for detecting rare events.\n",
        "    - Accuracy alone is not enough — we need metrics that focus on minority class detection (F1-score, recall).\n",
        "- Potential next steps:\n",
        "    1. Handle class imbalance using techniques such as oversampling (SMOTE), undersampling, or class_weight in the Random Forest — expected uplift: high.\n",
        "    2. Incorporate additional features (humidity, pressure, cloud cover) to improve signal for rain events — expected uplift: high.\n",
        "    3. Tune hyperparameters further, possibly increasing `max_depth` or `n_estimators` — expected uplift: moderate.\n",
        "    4. Experiment with other algorithms like XGBoost or Gradient Boosting, which may handle imbalance better — expected uplift: moderate.\n",
        "- Recommendation:\n",
        "    - Do not deploy the current model for operational decision-making due to its inability to detect rain events.\n",
        "    - Prioritize model improvements focusing on minority class detection before production deployment.\n",
        "\"\"\""
      ],
      "metadata": {
        "id": "iFF8wsz6HteA"
      },
      "execution_count": null,
      "outputs": []
    },
    {
      "cell_type": "code",
      "source": [
        "# Do not modify this code\n",
        "print_tile(size=\"h2\", key='experiment_results_explanations', value=experiment_results_explanations)"
      ],
      "metadata": {
        "id": "QpWzEhX2HthW",
        "colab": {
          "base_uri": "https://localhost:8080/",
          "height": 374
        },
        "outputId": "e11aded6-dc57-4300-8b63-a5cede60c62e"
      },
      "execution_count": null,
      "outputs": [
        {
          "output_type": "display_data",
          "data": {
            "text/plain": [
              "<IPython.core.display.HTML object>"
            ],
            "text/html": [
              "<p style=\"color:grey\">experiment_results_explanations</p><h2 font-size: 3em>\n",
              "The Random Forest classifier predicts overall rain/no-rain with 64% accuracy but fails to detect rain events (F1-score = 0 for rain). \n",
              "- The model strongly favors the majority class (no rain) due to class imbalance. \n",
              "- Insights gained:\n",
              "    - Daily precipitation in Sydney is sparse; rain events are less frequent than no-rain days.\n",
              "    - Current features and lag variables alone are insufficient for detecting rare events.\n",
              "    - Accuracy alone is not enough — we need metrics that focus on minority class detection (F1-score, recall).\n",
              "- Potential next steps:\n",
              "    1. Handle class imbalance using techniques such as oversampling (SMOTE), undersampling, or class_weight in the Random Forest — expected uplift: high.\n",
              "    2. Incorporate additional features (humidity, pressure, cloud cover) to improve signal for rain events — expected uplift: high.\n",
              "    3. Tune hyperparameters further, possibly increasing `max_depth` or `n_estimators` — expected uplift: moderate.\n",
              "    4. Experiment with other algorithms like XGBoost or Gradient Boosting, which may handle imbalance better — expected uplift: moderate.\n",
              "- Recommendation:\n",
              "    - Do not deploy the current model for operational decision-making due to its inability to detect rain events.\n",
              "    - Prioritize model improvements focusing on minority class detection before production deployment.\n",
              "</h2>"
            ]
          },
          "metadata": {}
        }
      ]
    },
    {
      "cell_type": "code",
      "source": [],
      "metadata": {
        "id": "4-Fz8eeLH1GR"
      },
      "execution_count": null,
      "outputs": []
    },
    {
      "cell_type": "code",
      "source": [],
      "metadata": {
        "id": "ctaHoeX-H1Ix"
      },
      "execution_count": null,
      "outputs": []
    }
  ],
  "metadata": {
    "colab": {
      "provenance": [],
      "toc_visible": true
    },
    "kernelspec": {
      "display_name": "Python 3 (ipykernel)",
      "language": "python",
      "name": "python3"
    },
    "language_info": {
      "codemirror_mode": {
        "name": "ipython",
        "version": 3
      },
      "file_extension": ".py",
      "mimetype": "text/x-python",
      "name": "python",
      "nbconvert_exporter": "python",
      "pygments_lexer": "ipython3",
      "version": "3.10.10"
    }
  },
  "nbformat": 4,
  "nbformat_minor": 0
}